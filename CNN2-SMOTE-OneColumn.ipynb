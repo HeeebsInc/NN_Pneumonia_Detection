{
 "cells": [
  {
   "cell_type": "code",
   "execution_count": null,
   "metadata": {
    "scrolled": true
   },
   "outputs": [],
   "source": [
    "from sklearn.preprocessing import LabelEncoder, OneHotEncoder\n",
    "from keras.preprocessing import image \n",
    "import numpy as np \n",
    "import pandas as pd \n",
    "import matplotlib.pyplot as plt\n",
    "from sklearn.model_selection import train_test_split\n",
    "import os\n",
    "from tensorflow.image import rgb_to_grayscale"
   ]
  },
  {
   "cell_type": "code",
   "execution_count": null,
   "metadata": {},
   "outputs": [],
   "source": []
  },
  {
   "cell_type": "markdown",
   "metadata": {},
   "source": [
    "## NN for Normal vs NonNormal"
   ]
  },
  {
   "cell_type": "code",
   "execution_count": null,
   "metadata": {},
   "outputs": [],
   "source": [
    "def normal_nonnormal(x): \n",
    "    if x == 'Normal': \n",
    "        return x \n",
    "    else: \n",
    "        return 'Non-Normal'\n",
    "\n",
    "df = pd.read_csv('../CombinedImages/CombinedUpdated.csv')\n",
    "na_fill = {'VirusCategory1': 'Normal'}\n",
    "df = df.fillna(value = na_fill)\n",
    "\n",
    "df.VirusCategory1 = df.VirusCategory1.map(normal_nonnormal)\n",
    "df = df.join(pd.get_dummies(df.VirusCategory1.values, prefix = 'type'))\n",
    "columns_include = ['Normal']\n",
    "df = df[['ImagePath', 'VirusCategory1'] + [f'type_{i}' for i in columns_include]]\n"
   ]
  },
  {
   "cell_type": "code",
   "execution_count": null,
   "metadata": {},
   "outputs": [],
   "source": [
    "df.type_Normal.value_counts()"
   ]
  },
  {
   "cell_type": "code",
   "execution_count": null,
   "metadata": {},
   "outputs": [],
   "source": []
  },
  {
   "cell_type": "code",
   "execution_count": null,
   "metadata": {},
   "outputs": [],
   "source": []
  },
  {
   "cell_type": "code",
   "execution_count": null,
   "metadata": {},
   "outputs": [],
   "source": [
    "X = df[['ImagePath', 'VirusCategory1']]\n",
    "y = df[[f'type_{i}' for i in columns_include]]\n",
    "\n",
    "x_train, x_test, y_train, y_test = train_test_split(X,y, random_state = 10, stratify = X.VirusCategory1.values,\n",
    "                                                   train_size = .95)\n",
    "\n",
    "x_train = x_train.drop('VirusCategory1', axis = 1)\n",
    "x_test = x_test.drop('VirusCategory1', axis = 1)"
   ]
  },
  {
   "cell_type": "code",
   "execution_count": null,
   "metadata": {},
   "outputs": [],
   "source": []
  },
  {
   "cell_type": "code",
   "execution_count": null,
   "metadata": {},
   "outputs": [],
   "source": [
    "#print(len(df[df['type_Normal']==1]), len(df[df['type_Normal']==0]))"
   ]
  },
  {
   "cell_type": "code",
   "execution_count": null,
   "metadata": {},
   "outputs": [],
   "source": [
    "def get_image_value(path, img_type): \n",
    "    img = image.load_img(path, target_size = (28,28,3))\n",
    "    img = image.img_to_array(img)\n",
    "    if img_type == 'grey':\n",
    "        img = np.dot(img[...,:3], [.2989,.5870,.1140])\n",
    "    return img/255\n",
    "\n",
    "\n",
    "def get_data(df, img_type): \n",
    "    from tqdm import tqdm\n",
    "    img_list = [] \n",
    "    for path in tqdm(df.ImagePath.values):\n",
    "        path = f'../CombinedImages/all/{path}'\n",
    "        img_list.append(get_image_value(path, img_type)) \n",
    "    return np.array(img_list).squeeze()\n",
    "img_type = 'normal'\n",
    "x_test = get_data(x_test, img_type)\n",
    "x_train = get_data(x_train, img_type)\n"
   ]
  },
  {
   "cell_type": "code",
   "execution_count": null,
   "metadata": {},
   "outputs": [],
   "source": [
    "#plt.imshow(x_test[0], cmap = plt.get_cmap('gray'))"
   ]
  },
  {
   "cell_type": "code",
   "execution_count": 23,
   "metadata": {},
   "outputs": [
    {
     "ename": "ModuleNotFoundError",
     "evalue": "No module named 'imblearn'",
     "output_type": "error",
     "traceback": [
      "\u001b[1;31m---------------------------------------------------------------------------\u001b[0m",
      "\u001b[1;31mModuleNotFoundError\u001b[0m                       Traceback (most recent call last)",
      "\u001b[1;32m<ipython-input-23-4b4b05070a1d>\u001b[0m in \u001b[0;36m<module>\u001b[1;34m\u001b[0m\n\u001b[1;32m----> 1\u001b[1;33m \u001b[1;32mfrom\u001b[0m \u001b[0mimblearn\u001b[0m\u001b[1;33m.\u001b[0m\u001b[0mover_sampling\u001b[0m \u001b[1;32mimport\u001b[0m \u001b[0mSMOTE\u001b[0m\u001b[1;33m\u001b[0m\u001b[1;33m\u001b[0m\u001b[0m\n\u001b[0m\u001b[0;32m      2\u001b[0m \u001b[0mprint\u001b[0m\u001b[1;33m(\u001b[0m\u001b[0mx_train\u001b[0m\u001b[1;33m.\u001b[0m\u001b[0mshape\u001b[0m\u001b[1;33m,\u001b[0m \u001b[0mx_test\u001b[0m\u001b[1;33m.\u001b[0m\u001b[0mshape\u001b[0m\u001b[1;33m)\u001b[0m\u001b[1;33m\u001b[0m\u001b[1;33m\u001b[0m\u001b[0m\n\u001b[0;32m      3\u001b[0m \u001b[0mx_train\u001b[0m \u001b[1;33m=\u001b[0m \u001b[0mx_train\u001b[0m\u001b[1;33m.\u001b[0m\u001b[0mreshape\u001b[0m\u001b[1;33m(\u001b[0m\u001b[0mlen\u001b[0m\u001b[1;33m(\u001b[0m\u001b[0mx_train\u001b[0m\u001b[1;33m)\u001b[0m\u001b[1;33m,\u001b[0m \u001b[1;36m28\u001b[0m \u001b[1;33m*\u001b[0m \u001b[1;36m28\u001b[0m \u001b[1;33m*\u001b[0m \u001b[1;36m3\u001b[0m\u001b[1;33m)\u001b[0m\u001b[1;33m\u001b[0m\u001b[1;33m\u001b[0m\u001b[0m\n\u001b[0;32m      4\u001b[0m \u001b[0mx_test\u001b[0m \u001b[1;33m=\u001b[0m \u001b[0mx_test\u001b[0m\u001b[1;33m.\u001b[0m\u001b[0mreshape\u001b[0m\u001b[1;33m(\u001b[0m\u001b[0mlen\u001b[0m\u001b[1;33m(\u001b[0m\u001b[0mx_test\u001b[0m\u001b[1;33m)\u001b[0m\u001b[1;33m,\u001b[0m \u001b[1;36m28\u001b[0m \u001b[1;33m*\u001b[0m \u001b[1;36m28\u001b[0m \u001b[1;33m*\u001b[0m \u001b[1;36m3\u001b[0m\u001b[1;33m)\u001b[0m\u001b[1;33m\u001b[0m\u001b[1;33m\u001b[0m\u001b[0m\n\u001b[0;32m      5\u001b[0m \u001b[0msmote\u001b[0m \u001b[1;33m=\u001b[0m \u001b[0mSMOTE\u001b[0m\u001b[1;33m(\u001b[0m\u001b[1;33m)\u001b[0m\u001b[1;33m\u001b[0m\u001b[1;33m\u001b[0m\u001b[0m\n",
      "\u001b[1;31mModuleNotFoundError\u001b[0m: No module named 'imblearn'"
     ]
    }
   ],
   "source": [
    "from imblearn.over_sampling import SMOTE\n",
    "print(x_train.shape, x_test.shape)\n",
    "x_train = x_train.reshape(len(x_train), 28 * 28 * 3)\n",
    "x_test = x_test.reshape(len(x_test), 28 * 28 * 3)\n",
    "smote = SMOTE() \n",
    "x_train_resampled, y_train_resampled = smote.fit_sample(x_train, y_train)\n",
    "\n"
   ]
  },
  {
   "cell_type": "code",
   "execution_count": null,
   "metadata": {},
   "outputs": [],
   "source": [
    "import pickle \n",
    "pickle.dump(x_train, open('picklesNorm/SMOTE_x_train_normal.p', 'wb'), protocol = 2)\n",
    "#pickle.dump(x_test, open('picklesNorm/Binary_x_test_normal.p', 'wb'))\n",
    "\n",
    "# pickle.dump(x_train, open('picklesNorm/x_train_grey.p', 'wb'))\n",
    "# pickle.dump(x_test, open('picklesNorm/x_test_grey.p', 'wb'))\n",
    "\n",
    "pickle.dump(y_train, open('picklesNorm/SMOTE_y_train.p', 'wb'))\n",
    "#pickle.dump(y_test, open('picklesNorm/Binary_y_test.p', 'wb'))"
   ]
  },
  {
   "cell_type": "code",
   "execution_count": null,
   "metadata": {},
   "outputs": [],
   "source": [
    "assert False"
   ]
  },
  {
   "cell_type": "code",
   "execution_count": 1,
   "metadata": {},
   "outputs": [],
   "source": [
    "def get_image_value(path, img_type): \n",
    "    img = image.load_img(path, target_size = (28,28,3))\n",
    "    img = image.img_to_array(img)\n",
    "    if img_type == 'grey':\n",
    "        img = np.dot(img[...,:3], [.2989,.5870,.1140])\n",
    "    return img/255\n",
    "\n",
    "img_type = 'normal'\n"
   ]
  },
  {
   "cell_type": "code",
   "execution_count": null,
   "metadata": {},
   "outputs": [],
   "source": []
  },
  {
   "cell_type": "code",
   "execution_count": 2,
   "metadata": {},
   "outputs": [],
   "source": [
    "from keras.models import Sequential\n",
    "from keras.layers import Dense, Dropout, Flatten \n",
    "from keras.layers import Conv2D, MaxPooling2D \n",
    "from keras import regularizers\n",
    "from sklearn.preprocessing import LabelEncoder, OneHotEncoder\n",
    "from keras.preprocessing import image \n",
    "import numpy as np \n",
    "import pandas as pd \n",
    "import matplotlib.pyplot as plt\n",
    "from sklearn.model_selection import train_test_split\n",
    "import os\n",
    "from tensorflow.image import rgb_to_grayscale\n",
    "import pickle\n",
    "from sklearn.metrics import confusion_matrix, accuracy_score, recall_score, precision_score, f1_score\n",
    "from tensorflow.keras.optimizers import Adam\n",
    "import tensorflow as tf"
   ]
  },
  {
   "cell_type": "code",
   "execution_count": 3,
   "metadata": {},
   "outputs": [],
   "source": [
    "def get_conv_model_normal(img_type):\n",
    "    if img_type == 'normal': \n",
    "        inp_shape = (28,28,3)\n",
    "    else: \n",
    "        inp_shape = (28,28, 1)\n",
    "    act = 'sigmoid'\n",
    "    drop = .25 \n",
    "    kernal_reg = regularizers.l2(.001)\n",
    "    dil_rate = 2\n",
    "    adam = Adam(.001)\n",
    "    \n",
    "    model = Sequential() \n",
    "    \n",
    "    model.add(Conv2D(128, kernel_size=(3,3),activation=act, input_shape = inp_shape, \n",
    "                     kernel_regularizer = kernal_reg, kernel_initializer = 'he_uniform', padding = 'same'))\n",
    "    model.add(MaxPooling2D(pool_size=(2, 2)))\n",
    "    \n",
    "    model.add(Conv2D(128, (3, 3), activation=act, kernel_regularizer = kernal_reg, dilation_rate = dil_rate, \n",
    "                     kernel_initializer = 'he_uniform', padding = 'same'))\n",
    "    model.add(MaxPooling2D(pool_size=(2, 2)))\n",
    "   \n",
    "    model.add(Flatten())\n",
    "    model.add(Dropout(drop))\n",
    "\n",
    "    model.add(Dense(512, activation='relu'))\n",
    "    model.add(Dropout(drop))\n",
    "\n",
    "    model.add(Dense(1, activation='sigmoid'))\n",
    "    \n",
    "    model.compile(loss = 'binary_crossentropy', optimizer = 'adam', metrics = ['accuracy'])\n",
    "    return model \n",
    "# def get_conv_model_normal(img_type):\n",
    "#     if img_type == 'normal': \n",
    "#         inp_shape = (28,28,3)\n",
    "#     else: \n",
    "#         inp_shape = (28,28, 1)\n",
    "#     drop = .25 \n",
    "#     kernal_reg = regularizers.l2(.001)\n",
    "#     dil_rate = 2\n",
    "#     model = Sequential() \n",
    "    \n",
    "#     model.add(Conv2D(128, kernel_size=(3,3),activation='sigmoid', input_shape = inp_shape, \n",
    "#                      kernel_regularizer = kernal_reg, kernel_initializer = 'he_uniform', padding = 'same'))\n",
    "#     model.add(MaxPooling2D(pool_size=(2, 2)))\n",
    "\n",
    "\n",
    "#     model.add(Conv2D(128, (1, 1), activation='sigmoid', kernel_regularizer = kernal_reg, dilation_rate = dil_rate, \n",
    "#                      kernel_initializer = 'he_uniform', padding = 'same'))\n",
    "#     model.add(MaxPooling2D(pool_size=(2, 2)))\n",
    "    \n",
    "# #     model.add(Conv2D(128, (1, 1), activation='relu', kernel_regularizer = kernal_reg, dilation_rate = dil_rate))\n",
    "# #     model.add(MaxPooling2D(pool_size=(2, 2)))\n",
    "    \n",
    "#     model.add(Flatten())\n",
    "#     model.add(Dropout(drop))\n",
    "    \n",
    "#     model.add(Dense(512, activation='relu'))\n",
    "#     model.add(Dropout(drop))\n",
    "\n",
    "#     model.add(Dense(2, activation='sigmoid'))\n",
    "    \n",
    "#     model.compile(loss = 'binary_crossentropy', optimizer = 'adam', metrics = ['accuracy'])\n",
    "#     return model "
   ]
  },
  {
   "cell_type": "code",
   "execution_count": 4,
   "metadata": {},
   "outputs": [
    {
     "name": "stdout",
     "output_type": "stream",
     "text": [
      "Epoch 1/200\n",
      "192/193 [============================>.] - ETA: 0s - loss: 0.7351 - accuracy: 0.8993\n",
      "Epoch 00001: val_loss improved from inf to 0.40129, saving model to models/Tester-NormalModelCheckpointWeights.h5\n",
      "193/193 [==============================] - 12s 62ms/step - loss: 0.7344 - accuracy: 0.8994 - val_loss: 0.4013 - val_accuracy: 0.9475\n",
      "Epoch 2/200\n",
      "192/193 [============================>.] - ETA: 0s - loss: 0.3171 - accuracy: 0.9575\n",
      "Epoch 00002: val_loss improved from 0.40129 to 0.25107, saving model to models/Tester-NormalModelCheckpointWeights.h5\n",
      "193/193 [==============================] - 12s 62ms/step - loss: 0.3168 - accuracy: 0.9576 - val_loss: 0.2511 - val_accuracy: 0.9630\n",
      "Epoch 3/200\n",
      "192/193 [============================>.] - ETA: 0s - loss: 0.2035 - accuracy: 0.9644\n",
      "Epoch 00003: val_loss improved from 0.25107 to 0.24598, saving model to models/Tester-NormalModelCheckpointWeights.h5\n",
      "193/193 [==============================] - 12s 62ms/step - loss: 0.2033 - accuracy: 0.9644 - val_loss: 0.2460 - val_accuracy: 0.9414\n",
      "Epoch 4/200\n",
      "192/193 [============================>.] - ETA: 0s - loss: 0.1716 - accuracy: 0.9622\n",
      "Epoch 00004: val_loss improved from 0.24598 to 0.19128, saving model to models/Tester-NormalModelCheckpointWeights.h5\n",
      "193/193 [==============================] - 12s 61ms/step - loss: 0.1723 - accuracy: 0.9620 - val_loss: 0.1913 - val_accuracy: 0.9506\n",
      "Epoch 5/200\n",
      "192/193 [============================>.] - ETA: 0s - loss: 0.1512 - accuracy: 0.9661\n",
      "Epoch 00005: val_loss improved from 0.19128 to 0.12827, saving model to models/Tester-NormalModelCheckpointWeights.h5\n",
      "193/193 [==============================] - 12s 62ms/step - loss: 0.1511 - accuracy: 0.9662 - val_loss: 0.1283 - val_accuracy: 0.9784\n",
      "Epoch 6/200\n",
      "192/193 [============================>.] - ETA: 0s - loss: 0.1504 - accuracy: 0.9631\n",
      "Epoch 00006: val_loss improved from 0.12827 to 0.11627, saving model to models/Tester-NormalModelCheckpointWeights.h5\n",
      "193/193 [==============================] - 12s 62ms/step - loss: 0.1503 - accuracy: 0.9631 - val_loss: 0.1163 - val_accuracy: 0.9815\n",
      "Epoch 7/200\n",
      "192/193 [============================>.] - ETA: 0s - loss: 0.1410 - accuracy: 0.9660\n",
      "Epoch 00007: val_loss improved from 0.11627 to 0.11587, saving model to models/Tester-NormalModelCheckpointWeights.h5\n",
      "193/193 [==============================] - 12s 62ms/step - loss: 0.1411 - accuracy: 0.9659 - val_loss: 0.1159 - val_accuracy: 0.9815\n",
      "Epoch 8/200\n",
      "192/193 [============================>.] - ETA: 0s - loss: 0.1384 - accuracy: 0.9658\n",
      "Epoch 00008: val_loss improved from 0.11587 to 0.11126, saving model to models/Tester-NormalModelCheckpointWeights.h5\n",
      "193/193 [==============================] - 12s 62ms/step - loss: 0.1383 - accuracy: 0.9659 - val_loss: 0.1113 - val_accuracy: 0.9815\n",
      "Epoch 9/200\n",
      "192/193 [============================>.] - ETA: 0s - loss: 0.1338 - accuracy: 0.9671\n",
      "Epoch 00009: val_loss improved from 0.11126 to 0.11112, saving model to models/Tester-NormalModelCheckpointWeights.h5\n",
      "193/193 [==============================] - 12s 62ms/step - loss: 0.1337 - accuracy: 0.9672 - val_loss: 0.1111 - val_accuracy: 0.9815\n",
      "Epoch 10/200\n",
      "192/193 [============================>.] - ETA: 0s - loss: 0.1292 - accuracy: 0.9691\n",
      "Epoch 00010: val_loss did not improve from 0.11112\n",
      "193/193 [==============================] - 12s 62ms/step - loss: 0.1298 - accuracy: 0.9690 - val_loss: 0.1263 - val_accuracy: 0.9660\n",
      "Epoch 11/200\n",
      "192/193 [============================>.] - ETA: 0s - loss: 0.1299 - accuracy: 0.9676\n",
      "Epoch 00011: val_loss improved from 0.11112 to 0.10430, saving model to models/Tester-NormalModelCheckpointWeights.h5\n",
      "193/193 [==============================] - 12s 62ms/step - loss: 0.1298 - accuracy: 0.9677 - val_loss: 0.1043 - val_accuracy: 0.9815\n",
      "Epoch 12/200\n",
      "192/193 [============================>.] - ETA: 0s - loss: 0.1237 - accuracy: 0.9702\n",
      "Epoch 00012: val_loss did not improve from 0.10430\n",
      "193/193 [==============================] - 12s 64ms/step - loss: 0.1236 - accuracy: 0.9703 - val_loss: 0.1077 - val_accuracy: 0.9784\n",
      "Epoch 13/200\n",
      "192/193 [============================>.] - ETA: 0s - loss: 0.1270 - accuracy: 0.9679\n",
      "Epoch 00013: val_loss improved from 0.10430 to 0.09886, saving model to models/Tester-NormalModelCheckpointWeights.h5\n",
      "193/193 [==============================] - 12s 64ms/step - loss: 0.1269 - accuracy: 0.9680 - val_loss: 0.0989 - val_accuracy: 0.9815\n",
      "Epoch 14/200\n",
      "192/193 [============================>.] - ETA: 0s - loss: 0.1275 - accuracy: 0.9701\n",
      "Epoch 00014: val_loss did not improve from 0.09886\n",
      "193/193 [==============================] - 12s 63ms/step - loss: 0.1275 - accuracy: 0.9699 - val_loss: 0.1125 - val_accuracy: 0.9691\n",
      "Epoch 15/200\n",
      "192/193 [============================>.] - ETA: 0s - loss: 0.1209 - accuracy: 0.9688\n",
      "Epoch 00015: val_loss did not improve from 0.09886\n",
      "193/193 [==============================] - 12s 63ms/step - loss: 0.1209 - accuracy: 0.9688 - val_loss: 0.1101 - val_accuracy: 0.9722\n",
      "Epoch 16/200\n",
      "192/193 [============================>.] - ETA: 0s - loss: 0.1215 - accuracy: 0.9692\n",
      "Epoch 00016: val_loss did not improve from 0.09886\n",
      "193/193 [==============================] - 12s 63ms/step - loss: 0.1214 - accuracy: 0.9693 - val_loss: 0.1138 - val_accuracy: 0.9784\n",
      "Epoch 17/200\n",
      "192/193 [============================>.] - ETA: 0s - loss: 0.1163 - accuracy: 0.9718\n",
      "Epoch 00017: val_loss improved from 0.09886 to 0.09691, saving model to models/Tester-NormalModelCheckpointWeights.h5\n",
      "193/193 [==============================] - 12s 63ms/step - loss: 0.1165 - accuracy: 0.9717 - val_loss: 0.0969 - val_accuracy: 0.9846\n",
      "Epoch 18/200\n",
      "192/193 [============================>.] - ETA: 0s - loss: 0.1225 - accuracy: 0.9702\n",
      "Epoch 00018: val_loss did not improve from 0.09691\n",
      "193/193 [==============================] - 12s 62ms/step - loss: 0.1224 - accuracy: 0.9703 - val_loss: 0.1011 - val_accuracy: 0.9784\n",
      "Epoch 19/200\n",
      "192/193 [============================>.] - ETA: 0s - loss: 0.1166 - accuracy: 0.9723\n",
      "Epoch 00019: val_loss improved from 0.09691 to 0.09226, saving model to models/Tester-NormalModelCheckpointWeights.h5\n",
      "193/193 [==============================] - 12s 63ms/step - loss: 0.1165 - accuracy: 0.9724 - val_loss: 0.0923 - val_accuracy: 0.9846\n",
      "Epoch 20/200\n",
      "192/193 [============================>.] - ETA: 0s - loss: 0.1173 - accuracy: 0.9720 ETA: 0s - loss: 0\n",
      "Epoch 00020: val_loss did not improve from 0.09226\n",
      "193/193 [==============================] - 12s 62ms/step - loss: 0.1172 - accuracy: 0.9720 - val_loss: 0.0981 - val_accuracy: 0.9846\n",
      "Epoch 21/200\n",
      "192/193 [============================>.] - ETA: 0s - loss: 0.1175 - accuracy: 0.9712\n",
      "Epoch 00021: val_loss did not improve from 0.09226\n",
      "193/193 [==============================] - 12s 63ms/step - loss: 0.1177 - accuracy: 0.9711 - val_loss: 0.0960 - val_accuracy: 0.9815\n",
      "Epoch 22/200\n",
      "192/193 [============================>.] - ETA: 0s - loss: 0.1224 - accuracy: 0.9688\n",
      "Epoch 00022: val_loss did not improve from 0.09226\n",
      "193/193 [==============================] - 12s 62ms/step - loss: 0.1229 - accuracy: 0.9686 - val_loss: 0.0954 - val_accuracy: 0.9815\n",
      "Epoch 23/200\n",
      "192/193 [============================>.] - ETA: 0s - loss: 0.1137 - accuracy: 0.9714\n",
      "Epoch 00023: val_loss improved from 0.09226 to 0.08377, saving model to models/Tester-NormalModelCheckpointWeights.h5\n",
      "193/193 [==============================] - 12s 62ms/step - loss: 0.1136 - accuracy: 0.9714 - val_loss: 0.0838 - val_accuracy: 0.9846\n",
      "Epoch 24/200\n",
      "192/193 [============================>.] - ETA: 0s - loss: 0.1142 - accuracy: 0.9720 ETA: 0s - loss: 0.1142 - accuracy: 0.\n",
      "Epoch 00024: val_loss did not improve from 0.08377\n",
      "193/193 [==============================] - 12s 62ms/step - loss: 0.1141 - accuracy: 0.9720 - val_loss: 0.1096 - val_accuracy: 0.9722\n",
      "Epoch 25/200\n",
      "192/193 [============================>.] - ETA: 0s - loss: 0.1135 - accuracy: 0.9728\n",
      "Epoch 00025: val_loss did not improve from 0.08377\n",
      "193/193 [==============================] - 12s 62ms/step - loss: 0.1134 - accuracy: 0.9729 - val_loss: 0.0912 - val_accuracy: 0.9815\n",
      "Epoch 26/200\n",
      "192/193 [============================>.] - ETA: 0s - loss: 0.1142 - accuracy: 0.9741\n",
      "Epoch 00026: val_loss did not improve from 0.08377\n",
      "193/193 [==============================] - 12s 63ms/step - loss: 0.1141 - accuracy: 0.9742 - val_loss: 0.0932 - val_accuracy: 0.9784\n"
     ]
    },
    {
     "name": "stdout",
     "output_type": "stream",
     "text": [
      "Epoch 27/200\n",
      "192/193 [============================>.] - ETA: 0s - loss: 0.1133 - accuracy: 0.9741\n",
      "Epoch 00027: val_loss did not improve from 0.08377\n",
      "193/193 [==============================] - 12s 62ms/step - loss: 0.1132 - accuracy: 0.9742 - val_loss: 0.1012 - val_accuracy: 0.9877\n",
      "Epoch 28/200\n",
      "192/193 [============================>.] - ETA: 0s - loss: 0.1133 - accuracy: 0.9744\n",
      "Epoch 00028: val_loss did not improve from 0.08377\n",
      "193/193 [==============================] - 12s 63ms/step - loss: 0.1141 - accuracy: 0.9743 - val_loss: 0.0919 - val_accuracy: 0.9846\n",
      "Epoch 00028: early stopping\n"
     ]
    }
   ],
   "source": [
    "from tensorflow.keras.callbacks import ModelCheckpoint, EarlyStopping\n",
    "\n",
    "\n",
    "def get_samples_norm(img_type): \n",
    "    x_train = pickle.load(open(f'picklesNorm/SMOTE_x_train_{img_type}.p', 'rb'))\n",
    "    x_test = pickle.load(open(f'picklesNorm/Binary_x_test_{img_type}.p', 'rb'))\n",
    "    y_train = pickle.load(open(f'picklesNorm/SMOTE_y_train.p', 'rb'))\n",
    "    y_test = pickle.load(open(f'picklesNorm/Binary_y_test.p', 'rb'))\n",
    "    return x_train, x_test, y_train, y_test\n",
    "x_train, x_test, y_train, y_test = get_samples_norm(img_type)\n",
    "\n",
    "\n",
    "if img_type == 'grey': \n",
    "    x_train = x_train.reshape(len(x_train), 28, 28, 1)\n",
    "    x_test = x_test.reshape(len(x_test), 28, 28, 1)\n",
    "x_train = x_train.reshape(len(x_train), 28, 28, 3)\n",
    "early_stopping = EarlyStopping(monitor='val_loss', verbose = 1, patience=5)\n",
    "model_checkpoint = ModelCheckpoint('models/Tester-NormalModelCheckpointWeights.h5', verbose = 1, save_best_only=True)\n",
    "\n",
    "epochs = 200\n",
    "batch_size = 32\n",
    "normal_model = get_conv_model_normal(img_type)\n",
    "normal_history = normal_model.fit(x_train, y_train, epochs = epochs, batch_size = batch_size, \n",
    "         callbacks = [early_stopping, model_checkpoint], validation_data = (x_test, y_test), verbose= 1)"
   ]
  },
  {
   "cell_type": "code",
   "execution_count": 5,
   "metadata": {},
   "outputs": [
    {
     "data": {
      "text/plain": [
       "<matplotlib.legend.Legend at 0x1bd087e51c8>"
      ]
     },
     "execution_count": 5,
     "metadata": {},
     "output_type": "execute_result"
    },
    {
     "data": {
      "image/png": "[encoded data removed]",
      "text/plain": [
       "<Figure size 1080x360 with 2 Axes>"
      ]
     },
     "metadata": {
      "needs_background": "light"
     },
     "output_type": "display_data"
    }
   ],
   "source": [
    "train_loss = normal_history.history['loss']\n",
    "train_acc = normal_history.history['accuracy']\n",
    "test_loss = normal_history.history['val_loss']\n",
    "test_acc = normal_history.history['val_accuracy']\n",
    "epochs = [i for i in range(1, len(test_acc)+1)]\n",
    "\n",
    "fig, ax = plt.subplots(1,2, figsize = (15,5))\n",
    "ax[0].plot(epochs, train_loss, label = 'Train Loss')\n",
    "ax[0].plot(epochs, test_loss, label = 'Test Loss')\n",
    "ax[0].set_title('Train/Test Loss')\n",
    "ax[0].legend()\n",
    "\n",
    "ax[1].plot(epochs, train_acc, label = 'Train Accuracy')\n",
    "ax[1].plot(epochs, test_acc, label = 'Test Accuracy')\n",
    "ax[1].set_title('Train/Test Accuracy')\n",
    "ax[1].legend()"
   ]
  },
  {
   "cell_type": "code",
   "execution_count": 6,
   "metadata": {},
   "outputs": [
    {
     "data": {
      "image/png": "[encoded data removed]",
      "text/plain": [
       "<Figure size 432x288 with 2 Axes>"
      ]
     },
     "metadata": {
      "needs_background": "light"
     },
     "output_type": "display_data"
    }
   ],
   "source": [
    "import itertools\n",
    "def plot_confusion_matrix(cm, classes,\n",
    "                          title='Confusion matrix',\n",
    "                          cmap=plt.cm.Blues):\n",
    "    \n",
    "        # Create the basic matrix\n",
    "#plt.figure(figsize = (10,10))\n",
    "\n",
    "    plt.imshow(cm,  cmap=plt.cm.Blues) \n",
    "    # Add title and axis labels\n",
    "    plt.title('Confusion Matrix')\n",
    "    plt.ylabel('True label')\n",
    "    plt.xlabel('Predicted label')\n",
    "\n",
    "    # Add appropriate axis scales\n",
    "    class_names = classes # Get class labels to add to matrix\n",
    "    tick_marks = np.arange(len(class_names))\n",
    "    plt.xticks(tick_marks, class_names, rotation=45)\n",
    "    plt.yticks(tick_marks, class_names)\n",
    "\n",
    "    # Add labels to each cell\n",
    "    thresh = cm.max() / 2. # Used for text coloring below\n",
    "    # Here we iterate through the confusion matrix and append labels to our visualization \n",
    "    for i, j in itertools.product(range(cm.shape[0]), range(cm.shape[1])):\n",
    "            plt.text(j, i, cm[i, j],\n",
    "                     horizontalalignment='center',\n",
    "                     color='white' if cm[i, j] > thresh else 'black')\n",
    "\n",
    "    # Add a legend\n",
    "    plt.colorbar()\n",
    "    plt.show()\n",
    "    \n",
    "normal_model = get_conv_model_normal(img_type)\n",
    "normal_model.load_weights('models/Tester-NormalModelCheckpointWeights.h5')\n",
    "\n",
    "y_test_predict = normal_model.predict(x_test).ravel()\n",
    "# print(y_test_predict) \n",
    "y_test_predict = np.where(y_test_predict >= .5, y_test_predict, 0)\n",
    "y_test_predict = np.where(y_test_predict <= .5, y_test_predict, 1)\n",
    "\n",
    "#y_test_predict = y_test_predict[y_test_predict > .5] =1 \n",
    "plot_confusion_matrix(confusion_matrix(y_test, y_test_predict), classes = [0,1])"
   ]
  },
  {
   "cell_type": "code",
   "execution_count": null,
   "metadata": {},
   "outputs": [],
   "source": []
  },
  {
   "cell_type": "code",
   "execution_count": 12,
   "metadata": {},
   "outputs": [
    {
     "name": "stdout",
     "output_type": "stream",
     "text": [
      "0.8235936\n",
      "Normal\n"
     ]
    }
   ],
   "source": [
    "normal_model = get_conv_model_normal(img_type)\n",
    "normal_model.load_weights('models/Tester-NormalModelCheckpointWeights.h5')\n",
    "tester_img = get_image_value('TestImages/Normal1.jpg', img_type)\n",
    "if img_type == 'grey': \n",
    "    tester_img = np.reshape(tester_img, (1,28,28,1))\n",
    "else:\n",
    "    tester_img = np.reshape(tester_img, (1,28,28,3))\n",
    "normal_predict = normal_model.predict(tester_img).squeeze()\n",
    "print(normal_predict)\n",
    "if normal_predict < .5: \n",
    "    print('Non-Normal')\n",
    "else: \n",
    "    print('Normal')\n",
    "\n"
   ]
  },
  {
   "cell_type": "code",
   "execution_count": null,
   "metadata": {},
   "outputs": [],
   "source": []
  },
  {
   "cell_type": "code",
   "execution_count": null,
   "metadata": {},
   "outputs": [],
   "source": [
    "assert False"
   ]
  },
  {
   "cell_type": "code",
   "execution_count": null,
   "metadata": {},
   "outputs": [],
   "source": []
  },
  {
   "cell_type": "markdown",
   "metadata": {},
   "source": [
    "### Test on Random Images"
   ]
  },
  {
   "cell_type": "markdown",
   "metadata": {},
   "source": [
    "['Normal', 'COVID-19', 'Bacterial', 'Fungal', 'SARS']\n",
    "['Normal', 'COVID-19', 'Bacterial']"
   ]
  },
  {
   "cell_type": "code",
   "execution_count": null,
   "metadata": {},
   "outputs": [],
   "source": []
  }
 ],
 "metadata": {
  "kernelspec": {
   "display_name": "Python 3",
   "language": "python",
   "name": "python3"
  },
  "language_info": {
   "codemirror_mode": {
    "name": "ipython",
    "version": 3
   },
   "file_extension": ".py",
   "mimetype": "text/x-python",
   "name": "python",
   "nbconvert_exporter": "python",
   "pygments_lexer": "ipython3",
   "version": "3.7.4"
  }
 },
 "nbformat": 4,
 "nbformat_minor": 4
}
