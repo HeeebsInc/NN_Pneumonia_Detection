{
 "cells": [
  {
   "cell_type": "code",
   "execution_count": 11,
   "metadata": {},
   "outputs": [],
   "source": [
    "import pandas as pd\n",
    "import numpy as np \n",
    "import os\n",
    "import shutil\n",
    "from tqdm import tqdm"
   ]
  },
  {
   "cell_type": "code",
   "execution_count": 13,
   "metadata": {},
   "outputs": [
    {
     "name": "stdout",
     "output_type": "stream",
     "text": [
      "['COVID-19' 'ARDS' 'SARS' 'Pneumocystis' 'Streptococcus' 'No Finding'\n",
      " 'Chlamydophila' 'E.Coli' 'COVID-19, ARDS' 'Klebsiella' 'Legionella'\n",
      " 'Unknown' 'Pneumonia' 'Lipoid' 'Varicella' 'Bacterial'\n",
      " 'Mycoplasma Bacterial Pneumonia' 'Influenza' 'todo']\n",
      "Index(['ImagePath', 'Label', 'DataType', 'VirusCategory1', 'VirusCategory2'], dtype='object')\n"
     ]
    }
   ],
   "source": [
    "df = pd.read_csv('XRayDataset/metadata.csv')\n",
    "df_combine = pd.read_csv('CombinedImages/Chest_xray_Corona_Metadata.csv').drop('Unnamed: 0', axis =1)\n",
    "print(df.finding.unique())\n",
    "print(df_combine.columns)"
   ]
  },
  {
   "cell_type": "code",
   "execution_count": 14,
   "metadata": {},
   "outputs": [
    {
     "data": {
      "text/html": [
       "<div>\n",
       "<style scoped>\n",
       "    .dataframe tbody tr th:only-of-type {\n",
       "        vertical-align: middle;\n",
       "    }\n",
       "\n",
       "    .dataframe tbody tr th {\n",
       "        vertical-align: top;\n",
       "    }\n",
       "\n",
       "    .dataframe thead th {\n",
       "        text-align: right;\n",
       "    }\n",
       "</style>\n",
       "<table border=\"1\" class=\"dataframe\">\n",
       "  <thead>\n",
       "    <tr style=\"text-align: right;\">\n",
       "      <th></th>\n",
       "      <th>finding</th>\n",
       "      <th>filename</th>\n",
       "    </tr>\n",
       "  </thead>\n",
       "  <tbody>\n",
       "    <tr>\n",
       "      <th>0</th>\n",
       "      <td>COVID-19</td>\n",
       "      <td>auntminnie-a-2020_01_28_23_51_6665_2020_01_28_...</td>\n",
       "    </tr>\n",
       "    <tr>\n",
       "      <th>1</th>\n",
       "      <td>COVID-19</td>\n",
       "      <td>auntminnie-b-2020_01_28_23_51_6665_2020_01_28_...</td>\n",
       "    </tr>\n",
       "    <tr>\n",
       "      <th>2</th>\n",
       "      <td>COVID-19</td>\n",
       "      <td>auntminnie-c-2020_01_28_23_51_6665_2020_01_28_...</td>\n",
       "    </tr>\n",
       "    <tr>\n",
       "      <th>3</th>\n",
       "      <td>COVID-19</td>\n",
       "      <td>auntminnie-d-2020_01_28_23_51_6665_2020_01_28_...</td>\n",
       "    </tr>\n",
       "    <tr>\n",
       "      <th>4</th>\n",
       "      <td>COVID-19</td>\n",
       "      <td>nejmc2001573_f1a.jpeg</td>\n",
       "    </tr>\n",
       "    <tr>\n",
       "      <th>...</th>\n",
       "      <td>...</td>\n",
       "      <td>...</td>\n",
       "    </tr>\n",
       "    <tr>\n",
       "      <th>653</th>\n",
       "      <td>COVID-19</td>\n",
       "      <td>covid-19-caso-95-2-16.png</td>\n",
       "    </tr>\n",
       "    <tr>\n",
       "      <th>654</th>\n",
       "      <td>COVID-19</td>\n",
       "      <td>covid-19-caso-95-3-14.png</td>\n",
       "    </tr>\n",
       "    <tr>\n",
       "      <th>655</th>\n",
       "      <td>COVID-19</td>\n",
       "      <td>covid-19-caso-95-4-12.png</td>\n",
       "    </tr>\n",
       "    <tr>\n",
       "      <th>656</th>\n",
       "      <td>COVID-19</td>\n",
       "      <td>covid-19-caso-99-1-19.png</td>\n",
       "    </tr>\n",
       "    <tr>\n",
       "      <th>657</th>\n",
       "      <td>COVID-19</td>\n",
       "      <td>covid-19-caso-111-1-21.png</td>\n",
       "    </tr>\n",
       "  </tbody>\n",
       "</table>\n",
       "<p>658 rows × 2 columns</p>\n",
       "</div>"
      ],
      "text/plain": [
       "      finding                                           filename\n",
       "0    COVID-19  auntminnie-a-2020_01_28_23_51_6665_2020_01_28_...\n",
       "1    COVID-19  auntminnie-b-2020_01_28_23_51_6665_2020_01_28_...\n",
       "2    COVID-19  auntminnie-c-2020_01_28_23_51_6665_2020_01_28_...\n",
       "3    COVID-19  auntminnie-d-2020_01_28_23_51_6665_2020_01_28_...\n",
       "4    COVID-19                              nejmc2001573_f1a.jpeg\n",
       "..        ...                                                ...\n",
       "653  COVID-19                          covid-19-caso-95-2-16.png\n",
       "654  COVID-19                          covid-19-caso-95-3-14.png\n",
       "655  COVID-19                          covid-19-caso-95-4-12.png\n",
       "656  COVID-19                          covid-19-caso-99-1-19.png\n",
       "657  COVID-19                         covid-19-caso-111-1-21.png\n",
       "\n",
       "[658 rows x 2 columns]"
      ]
     },
     "execution_count": 14,
     "metadata": {},
     "output_type": "execute_result"
    }
   ],
   "source": [
    "df = df[df.finding != 'todo']\n",
    "df = df[['finding', 'filename']]\n",
    "df "
   ]
  },
  {
   "cell_type": "code",
   "execution_count": null,
   "metadata": {},
   "outputs": [],
   "source": []
  },
  {
   "cell_type": "code",
   "execution_count": 16,
   "metadata": {},
   "outputs": [
    {
     "name": "stderr",
     "output_type": "stream",
     "text": [
      "658it [00:06, 98.35it/s] \n"
     ]
    }
   ],
   "source": [
    "#df_paths = df.filename.map(lambda x: f'XRayDataset/images/{x}').values \n",
    "new_df = df_combine\n",
    "combined_paths = df_combine.ImagePath.values\n",
    "for finding, path in tqdm(zip(df.finding.values, df.filename.values)): \n",
    "    if path[-3::]== '.gz' or path in combined_paths: \n",
    "        continue \n",
    "    try: \n",
    "        df_dict = {'ImagePath': path, 'VirusCategory1': finding}\n",
    "        new_df = new_df.append(df_dict, ignore_index = True)\n",
    "        shutil.copy(f'XRayDataset/images/{path}', 'CombinedImages/all')\n",
    "    except: \n",
    "        continue"
   ]
  },
  {
   "cell_type": "code",
   "execution_count": 8,
   "metadata": {},
   "outputs": [
    {
     "data": {
      "text/plain": [
       "5910"
      ]
     },
     "execution_count": 8,
     "metadata": {},
     "output_type": "execute_result"
    }
   ],
   "source": []
  },
  {
   "cell_type": "code",
   "execution_count": 17,
   "metadata": {},
   "outputs": [],
   "source": [
    "new_df.to_csv('CombinedImages/CombinedUpdated.csv', index = False)"
   ]
  },
  {
   "cell_type": "code",
   "execution_count": null,
   "metadata": {},
   "outputs": [],
   "source": []
  }
 ],
 "metadata": {
  "kernelspec": {
   "display_name": "Python 3",
   "language": "python",
   "name": "python3"
  },
  "language_info": {
   "codemirror_mode": {
    "name": "ipython",
    "version": 3
   },
   "file_extension": ".py",
   "mimetype": "text/x-python",
   "name": "python",
   "nbconvert_exporter": "python",
   "pygments_lexer": "ipython3",
   "version": "3.7.6"
  }
 },
 "nbformat": 4,
 "nbformat_minor": 4
}
