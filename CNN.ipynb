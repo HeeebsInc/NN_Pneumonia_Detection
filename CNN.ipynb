{
 "cells": [
  {
   "cell_type": "markdown",
   "metadata": {},
   "source": [
    "## CNN "
   ]
  },
  {
   "cell_type": "code",
   "execution_count": 1,
   "metadata": {},
   "outputs": [],
   "source": [
    "from keras.models import Sequential\n",
    "from keras.layers import Dense, Dropout, Flatten \n",
    "from keras.layers import Conv2D, MaxPooling2D \n",
    "from keras import regularizers\n",
    "from sklearn.preprocessing import LabelEncoder, OneHotEncoder\n",
    "from keras.preprocessing import image \n",
    "import numpy as np \n",
    "import pandas as pd \n",
    "import matplotlib.pyplot as plt\n",
    "from sklearn.model_selection import train_test_split\n",
    "import os\n",
    "from tensorflow.image import rgb_to_grayscale\n",
    "import pickle\n",
    "from sklearn.metrics import confusion_matrix, accuracy_score, recall_score, precision_score, f1_score\n",
    "from tensorflow.keras.optimizers import Adam\n",
    "import tensorflow as tf"
   ]
  },
  {
   "cell_type": "code",
   "execution_count": null,
   "metadata": {},
   "outputs": [],
   "source": []
  },
  {
   "cell_type": "code",
   "execution_count": 2,
   "metadata": {},
   "outputs": [],
   "source": [
    "def get_image_value(path): \n",
    "    img = image.load_img(path, target_size = (28,28,3))\n",
    "    img = image.img_to_array(img)\n",
    "    return img/255"
   ]
  },
  {
   "cell_type": "code",
   "execution_count": 3,
   "metadata": {},
   "outputs": [],
   "source": [
    "def get_conv_model_normal():\n",
    "    \n",
    "    inp_shape = (28,28,3)\n",
    "    act = 'sigmoid'\n",
    "    drop = .25 \n",
    "    kernal_reg = regularizers.l2(.001)\n",
    "    dil_rate = 2\n",
    "    adam = Adam(.001)\n",
    "    \n",
    "    model = Sequential() \n",
    "    \n",
    "    model.add(Conv2D(128, kernel_size=(3,3),activation=act, input_shape = inp_shape, \n",
    "                     kernel_regularizer = kernal_reg, kernel_initializer = 'he_uniform', padding = 'same'))\n",
    "    model.add(MaxPooling2D(pool_size=(2, 2)))\n",
    "    \n",
    "    model.add(Conv2D(128, (3, 3), activation=act, kernel_regularizer = kernal_reg, dilation_rate = dil_rate, \n",
    "                     kernel_initializer = 'he_uniform', padding = 'same'))\n",
    "    model.add(MaxPooling2D(pool_size=(2, 2)))\n",
    "   \n",
    "    model.add(Flatten())\n",
    "    model.add(Dropout(drop))\n",
    "\n",
    "    model.add(Dense(512, activation='relu'))\n",
    "    model.add(Dropout(drop))\n",
    "\n",
    "    model.add(Dense(1, activation='sigmoid'))\n",
    "    \n",
    "    model.compile(loss = 'binary_crossentropy', optimizer = 'adam', metrics = ['accuracy'])\n",
    "    return model \n"
   ]
  },
  {
   "cell_type": "code",
   "execution_count": 4,
   "metadata": {},
   "outputs": [],
   "source": [
    "train_type = 'SMOTE'\n",
    "\n",
    "def get_samples_norm(train_type): \n",
    "    x_train = pickle.load(open(f'pickles/{train_type}_x_train.p', 'rb'))\n",
    "    x_test = pickle.load(open(f'pickles/Normal_x_test.p', 'rb'))\n",
    "    y_train = pickle.load(open(f'pickles/{train_type}_y_train.p', 'rb'))\n",
    "    y_test = pickle.load(open(f'pickles/Normal_y_test.p', 'rb'))\n",
    "    return x_train, x_test, y_train, y_test\n",
    "x_train, x_test, y_train, y_test = get_samples_norm(train_type)\n",
    "x_train = x_train.reshape(len(x_train), 28, 28, 3) #reshape from smote "
   ]
  },
  {
   "cell_type": "code",
   "execution_count": 5,
   "metadata": {},
   "outputs": [
    {
     "name": "stdout",
     "output_type": "stream",
     "text": [
      "Epoch 1/200\n",
      "347/347 [==============================] - ETA: 0s - loss: 0.9201 - accuracy: 0.7259\n",
      "Epoch 00001: val_loss improved from inf to 0.44255, saving model to models/CNN-ModelCheckpointWeights.h5\n",
      "347/347 [==============================] - 22s 64ms/step - loss: 0.9201 - accuracy: 0.7259 - val_loss: 0.4425 - val_accuracy: 0.9105\n",
      "Epoch 2/200\n",
      "347/347 [==============================] - ETA: 0s - loss: 0.3566 - accuracy: 0.9224\n",
      "Epoch 00002: val_loss improved from 0.44255 to 0.27168, saving model to models/CNN-ModelCheckpointWeights.h5\n",
      "347/347 [==============================] - 22s 63ms/step - loss: 0.3566 - accuracy: 0.9224 - val_loss: 0.2717 - val_accuracy: 0.9198\n",
      "Epoch 3/200\n",
      "347/347 [==============================] - ETA: 0s - loss: 0.2423 - accuracy: 0.9356\n",
      "Epoch 00003: val_loss improved from 0.27168 to 0.16887, saving model to models/CNN-ModelCheckpointWeights.h5\n",
      "347/347 [==============================] - 22s 63ms/step - loss: 0.2423 - accuracy: 0.9356 - val_loss: 0.1689 - val_accuracy: 0.9568\n",
      "Epoch 4/200\n",
      "347/347 [==============================] - ETA: 0s - loss: 0.2054 - accuracy: 0.9403\n",
      "Epoch 00004: val_loss improved from 0.16887 to 0.15063, saving model to models/CNN-ModelCheckpointWeights.h5\n",
      "347/347 [==============================] - 22s 63ms/step - loss: 0.2054 - accuracy: 0.9403 - val_loss: 0.1506 - val_accuracy: 0.9660\n",
      "Epoch 5/200\n",
      "347/347 [==============================] - ETA: 0s - loss: 0.1854 - accuracy: 0.9490\n",
      "Epoch 00005: val_loss did not improve from 0.15063\n",
      "347/347 [==============================] - 21s 61ms/step - loss: 0.1854 - accuracy: 0.9490 - val_loss: 0.1677 - val_accuracy: 0.9599\n",
      "Epoch 6/200\n",
      "347/347 [==============================] - ETA: 0s - loss: 0.1725 - accuracy: 0.9555\n",
      "Epoch 00006: val_loss improved from 0.15063 to 0.12962, saving model to models/CNN-ModelCheckpointWeights.h5\n",
      "347/347 [==============================] - 21s 62ms/step - loss: 0.1725 - accuracy: 0.9555 - val_loss: 0.1296 - val_accuracy: 0.9660\n",
      "Epoch 7/200\n",
      "347/347 [==============================] - ETA: 0s - loss: 0.1649 - accuracy: 0.9577\n",
      "Epoch 00007: val_loss did not improve from 0.12962\n",
      "347/347 [==============================] - 21s 62ms/step - loss: 0.1649 - accuracy: 0.9577 - val_loss: 0.1548 - val_accuracy: 0.9599\n",
      "Epoch 8/200\n",
      "347/347 [==============================] - ETA: 0s - loss: 0.1567 - accuracy: 0.9595\n",
      "Epoch 00008: val_loss did not improve from 0.12962\n",
      "347/347 [==============================] - 21s 62ms/step - loss: 0.1567 - accuracy: 0.9595 - val_loss: 0.1480 - val_accuracy: 0.9599\n",
      "Epoch 9/200\n",
      "347/347 [==============================] - ETA: 0s - loss: 0.1615 - accuracy: 0.9578\n",
      "Epoch 00009: val_loss improved from 0.12962 to 0.11830, saving model to models/CNN-ModelCheckpointWeights.h5\n",
      "347/347 [==============================] - 22s 63ms/step - loss: 0.1615 - accuracy: 0.9578 - val_loss: 0.1183 - val_accuracy: 0.9691\n",
      "Epoch 10/200\n",
      "347/347 [==============================] - ETA: 0s - loss: 0.1497 - accuracy: 0.9626\n",
      "Epoch 00010: val_loss did not improve from 0.11830\n",
      "347/347 [==============================] - 22s 62ms/step - loss: 0.1497 - accuracy: 0.9626 - val_loss: 0.1203 - val_accuracy: 0.9691\n",
      "Epoch 11/200\n",
      "347/347 [==============================] - ETA: 0s - loss: 0.1462 - accuracy: 0.9660\n",
      "Epoch 00011: val_loss did not improve from 0.11830\n",
      "347/347 [==============================] - 22s 64ms/step - loss: 0.1462 - accuracy: 0.9660 - val_loss: 0.1186 - val_accuracy: 0.9691\n",
      "Epoch 12/200\n",
      "347/347 [==============================] - ETA: 0s - loss: 0.1405 - accuracy: 0.9684\n",
      "Epoch 00012: val_loss did not improve from 0.11830\n",
      "347/347 [==============================] - 22s 62ms/step - loss: 0.1405 - accuracy: 0.9684 - val_loss: 0.1378 - val_accuracy: 0.9660\n",
      "Epoch 00012: early stopping\n"
     ]
    }
   ],
   "source": [
    "from tensorflow.keras.callbacks import ModelCheckpoint, EarlyStopping\n",
    "\n",
    "\n",
    "early_stopping = EarlyStopping(monitor='val_loss', verbose = 1, patience=3)\n",
    "model_checkpoint = ModelCheckpoint('models/CNN-ModelCheckpointWeights.h5', verbose = 1, save_best_only=True)\n",
    "\n",
    "epochs = 200\n",
    "batch_size = 32\n",
    "normal_model = get_conv_model_normal()\n",
    "normal_history = normal_model.fit(x_train, y_train, epochs = epochs, batch_size = batch_size, \n",
    "         callbacks = [early_stopping, model_checkpoint], validation_data = (x_test, y_test), verbose= 1)"
   ]
  },
  {
   "cell_type": "markdown",
   "metadata": {},
   "source": [
    "## Loss & Accuracy"
   ]
  },
  {
   "cell_type": "code",
   "execution_count": 6,
   "metadata": {},
   "outputs": [
    {
     "data": {
      "text/plain": [
       "<matplotlib.legend.Legend at 0x17c152555c8>"
      ]
     },
     "execution_count": 6,
     "metadata": {},
     "output_type": "execute_result"
    },
    {
     "data": {
      "image/png": "[encoded data removed]",
      "text/plain": [
       "<Figure size 1080x360 with 2 Axes>"
      ]
     },
     "metadata": {
      "needs_background": "light"
     },
     "output_type": "display_data"
    }
   ],
   "source": [
    "train_loss = normal_history.history['loss']\n",
    "train_acc = normal_history.history['accuracy']\n",
    "test_loss = normal_history.history['val_loss']\n",
    "test_acc = normal_history.history['val_accuracy']\n",
    "epochs = [i for i in range(1, len(test_acc)+1)]\n",
    "\n",
    "fig, ax = plt.subplots(1,2, figsize = (15,5))\n",
    "ax[0].plot(epochs, train_loss, label = 'Train Loss')\n",
    "ax[0].plot(epochs, test_loss, label = 'Test Loss')\n",
    "ax[0].set_title('Train/Test Loss')\n",
    "ax[0].legend()\n",
    "\n",
    "ax[1].plot(epochs, train_acc, label = 'Train Accuracy')\n",
    "ax[1].plot(epochs, test_acc, label = 'Test Accuracy')\n",
    "ax[1].set_title('Train/Test Accuracy')\n",
    "ax[1].legend()"
   ]
  },
  {
   "cell_type": "code",
   "execution_count": 7,
   "metadata": {},
   "outputs": [
    {
     "data": {
      "image/png": "[encoded data removed]",
      "text/plain": [
       "<Figure size 432x288 with 2 Axes>"
      ]
     },
     "metadata": {
      "needs_background": "light"
     },
     "output_type": "display_data"
    },
    {
     "data": {
      "image/png": "[encoded data removed]",
      "text/plain": [
       "<Figure size 432x288 with 2 Axes>"
      ]
     },
     "metadata": {
      "needs_background": "light"
     },
     "output_type": "display_data"
    }
   ],
   "source": [
    "import itertools\n",
    "def plot_confusion_matrix(cm, classes,\n",
    "                          title='Confusion matrix',\n",
    "                          cmap=plt.cm.Blues):\n",
    "    \n",
    "        # Create the basic matrix\n",
    "    plt.imshow(cm,  cmap=plt.cm.Blues) \n",
    "\n",
    "    # Add title and axis labels\n",
    "    plt.title('Confusion Matrix')\n",
    "    plt.ylabel('True label')\n",
    "    plt.xlabel('Predicted label')\n",
    "\n",
    "    # Add appropriate axis scales\n",
    "    class_names = classes # Get class labels to add to matrix\n",
    "    tick_marks = np.arange(len(class_names))\n",
    "    plt.xticks(tick_marks, class_names, rotation=45)\n",
    "    plt.yticks(tick_marks, class_names)\n",
    "\n",
    "    thresh = cm.max() / 2. # Used for text coloring below\n",
    "\n",
    "    for i, j in itertools.product(range(cm.shape[0]), range(cm.shape[1])):\n",
    "            plt.text(j, i, cm[i, j],\n",
    "                     horizontalalignment='center',\n",
    "                     color='white' if cm[i, j] > thresh else 'black')\n",
    "\n",
    "    # Add a legend\n",
    "    plt.colorbar()\n",
    "    plt.show()\n",
    "    \n",
    "normal_model = get_conv_model_normal()\n",
    "normal_model.load_weights('models/CNN-ModelCheckpointWeights.h5')\n",
    "\n",
    "y_test_predict = normal_model.predict(x_test).ravel()\n",
    "y_test_predict = np.where(y_test_predict >= .5, y_test_predict, 0)\n",
    "y_test_predict = np.where(y_test_predict <= .5, y_test_predict, 1)\n",
    "\n",
    "plot_confusion_matrix(confusion_matrix(y_test, y_test_predict), classes = [0,1])\n",
    "\n",
    "y_train_predict = normal_model.predict(x_train).ravel()\n",
    "y_train_predict = np.where(y_train_predict >= .5, y_train_predict, 0)\n",
    "y_train_predict = np.where(y_train_predict <= .5, y_train_predict, 1)\n",
    "\n",
    "plot_confusion_matrix(confusion_matrix(y_train, y_train_predict), classes = [0,1])"
   ]
  },
  {
   "cell_type": "markdown",
   "metadata": {},
   "source": [
    "## Test Model\n",
    "- select any picture from google and put it in the TestImages directory, then replace the path below with that of the new picture. "
   ]
  },
  {
   "cell_type": "code",
   "execution_count": 8,
   "metadata": {},
   "outputs": [
    {
     "name": "stdout",
     "output_type": "stream",
     "text": [
      "Actual: Bacterial.jpg\t\tPrediction: Non-Normal\t\tValue: 0.00023016105114948004\n",
      "Actual: COVID.jpg\t\tPrediction: Non-Normal\t\tValue: 0.05335460975766182\n",
      "Actual: COVID2.jpg\t\tPrediction: Non-Normal\t\tValue: 6.918369308550609e-06\n",
      "Actual: Fungal.jpg\t\tPrediction: Non-Normal\t\tValue: 0.0016880695475265384\n",
      "Actual: Normal.jpg\t\tPrediction: Non-Normal\t\tValue: 0.007197913248091936\n",
      "Actual: Normal1.jpg\t\tPrediction: Non-Normal\t\tValue: 0.2275019884109497\n",
      "Actual: Normal2.jpg\t\tPrediction: Non-Normal\t\tValue: 0.00020946645236108452\n",
      "Actual: normal3.jpg\t\tPrediction: Non-Normal\t\tValue: 0.4460262358188629\n",
      "Actual: Normal4.jpg\t\tPrediction: Non-Normal\t\tValue: 0.0006613163277506828\n",
      "Actual: Normal5.jpg\t\tPrediction: Non-Normal\t\tValue: 0.2275019884109497\n",
      "Actual: Normal6.jpg\t\tPrediction: Non-Normal\t\tValue: 0.0006613163277506828\n"
     ]
    }
   ],
   "source": [
    "normal_model = get_conv_model_normal()\n",
    "normal_model.load_weights('models/CNN-ModelCheckpointWeights.h5') # load the best weights\n",
    "\n",
    "for pic in os.listdir('TestImages'):\n",
    "    if pic == '.DS_Store': \n",
    "        continue\n",
    "    tester_img = get_image_value(f'TestImages/{pic}') \n",
    "\n",
    "\n",
    "    tester_img = np.reshape(tester_img, (1,28,28,3))\n",
    "    normal_predict = normal_model.predict(tester_img).squeeze()\n",
    "    if normal_predict < .5: \n",
    "        print(f'Actual: {pic}\\t\\tPrediction: Non-Normal\\t\\tValue: {normal_predict}')\n",
    "    else: \n",
    "        print(f'Actual: {pic}\\t\\tPrediction: Normal\\t\\tValue; {normal_predict}')\n",
    "\n"
   ]
  },
  {
   "cell_type": "code",
   "execution_count": null,
   "metadata": {},
   "outputs": [],
   "source": []
  }
 ],
 "metadata": {
  "kernelspec": {
   "display_name": "Python 3",
   "language": "python",
   "name": "python3"
  },
  "language_info": {
   "codemirror_mode": {
    "name": "ipython",
    "version": 3
   },
   "file_extension": ".py",
   "mimetype": "text/x-python",
   "name": "python",
   "nbconvert_exporter": "python",
   "pygments_lexer": "ipython3",
   "version": "3.7.4"
  }
 },
 "nbformat": 4,
 "nbformat_minor": 4
}
