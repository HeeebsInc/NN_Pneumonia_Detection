{
 "cells": [
  {
   "cell_type": "code",
   "execution_count": 3,
   "metadata": {
    "scrolled": true
   },
   "outputs": [],
   "source": [
    "from sklearn.preprocessing import LabelEncoder, OneHotEncoder\n",
    "from keras.preprocessing import image \n",
    "import numpy as np \n",
    "import pandas as pd \n",
    "import matplotlib.pyplot as plt\n",
    "from sklearn.model_selection import train_test_split\n",
    "import os"
   ]
  },
  {
   "cell_type": "code",
   "execution_count": null,
   "metadata": {},
   "outputs": [],
   "source": []
  },
  {
   "cell_type": "markdown",
   "metadata": {},
   "source": [
    "## NN for Normal vs NonNormal"
   ]
  },
  {
   "cell_type": "code",
   "execution_count": 4,
   "metadata": {},
   "outputs": [],
   "source": [
    "def normal_nonnormal(x): \n",
    "    if x == 'Normal': \n",
    "        return x \n",
    "    else: \n",
    "        return 'Non-Normal'\n",
    "\n",
    "df = pd.read_csv('../CombinedImages/CombinedUpdated.csv')\n",
    "na_fill = {'VirusCategory1': 'Normal'}\n",
    "df = df.fillna(value = na_fill)\n",
    "\n",
    "df.VirusCategory1 = df.VirusCategory1.map(normal_nonnormal)\n",
    "df = df.join(pd.get_dummies(df.VirusCategory1.values, prefix = 'type'))\n",
    "columns_include = ['Normal', 'Non-Normal']\n",
    "df = df[['ImagePath', 'VirusCategory1'] + [f'type_{i}' for i in columns_include]]\n"
   ]
  },
  {
   "cell_type": "code",
   "execution_count": 5,
   "metadata": {},
   "outputs": [],
   "source": [
    "X = df[['ImagePath', 'VirusCategory1']]\n",
    "y = df[[f'type_{i}' for i in columns_include]]\n",
    "\n",
    "x_train, x_test, y_train, y_test = train_test_split(X,y, random_state = 10, stratify = X.VirusCategory1.values,\n",
    "                                                   train_size = .9)\n",
    "\n",
    "x_train = x_train.drop('VirusCategory1', axis = 1)\n",
    "x_test = x_test.drop('VirusCategory1', axis = 1)"
   ]
  },
  {
   "cell_type": "code",
   "execution_count": 6,
   "metadata": {},
   "outputs": [
    {
     "name": "stderr",
     "output_type": "stream",
     "text": [
      "100%|███████████████████████████████████████████████████████████████████████████████████████████████████████████| 648/648 [00:07<00:00, 86.98it/s]\n",
      "100%|█████████████████████████████████████████████████████████████████████████████████████████████████████████| 5829/5829 [01:11<00:00, 81.69it/s]\n"
     ]
    }
   ],
   "source": [
    "def get_image_value(path): \n",
    "    img = image.load_img(path, target_size = (28,28,1))\n",
    "    img = image.img_to_array(img)/255\n",
    "    return img \n",
    "\n",
    "\n",
    "def get_data(df): \n",
    "    from tqdm import tqdm\n",
    "    img_list = [] \n",
    "    for path in tqdm(df.ImagePath.values):\n",
    "        path = f'../CombinedImages/all/{path}'\n",
    "        img_list.append(get_image_value(path)) \n",
    "    return np.array(img_list).squeeze()\n",
    "\n",
    "x_test = get_data(x_test)\n",
    "x_train = get_data(x_train)\n"
   ]
  },
  {
   "cell_type": "code",
   "execution_count": 7,
   "metadata": {},
   "outputs": [],
   "source": [
    "from keras.models import Sequential\n",
    "from keras.layers import Dense, Dropout, Flatten \n",
    "from keras.layers import Conv2D, MaxPooling2D "
   ]
  },
  {
   "cell_type": "code",
   "execution_count": 15,
   "metadata": {},
   "outputs": [],
   "source": [
    "def get_conv_model_normal(x, y): \n",
    "    drop = .4 \n",
    "    \n",
    "    model = Sequential() \n",
    "    \n",
    "    model.add(Conv2D(32, kernel_size=(3, 3),activation='relu', input_shape = (28,28,3)))\n",
    "    model.add(Conv2D(64, (3, 3), activation='relu', dilation_rate =1))\n",
    "    model.add(MaxPooling2D(pool_size=(2, 2)))\n",
    "    model.add(Conv2D(128, (3, 3), activation='relu', dilation_rate =1))\n",
    "    model.add(MaxPooling2D(pool_size=(2, 2)))\n",
    "    \n",
    "    model.add(Dropout(drop))\n",
    "    model.add(Flatten())\n",
    "    \n",
    "\n",
    "#     model.add(Dropout(drop))\n",
    "#     model.add(Flatten())\n",
    "    \n",
    "    model.add(Dense(128, activation='sigmoid'))\n",
    "    model.add(Dropout(drop))\n",
    "\n",
    "    model.add(Dense(2, activation='softmax'))\n",
    "    \n",
    "    model.compile(loss = 'categorical_crossentropy', optimizer = 'adam', metrics = ['accuracy'])\n",
    "    return model "
   ]
  },
  {
   "cell_type": "code",
   "execution_count": 16,
   "metadata": {},
   "outputs": [
    {
     "name": "stdout",
     "output_type": "stream",
     "text": [
      "Epoch 1/50\n",
      "\n",
      "Epoch 00001: val_loss improved from inf to 0.10505, saving model to models/NormalModelCheckpointWeights.h5\n",
      "5829/5829 - 19s - loss: 0.1478 - accuracy: 0.9581 - val_loss: 0.1051 - val_accuracy: 0.9630\n",
      "Epoch 2/50\n",
      "\n",
      "Epoch 00002: val_loss improved from 0.10505 to 0.09255, saving model to models/NormalModelCheckpointWeights.h5\n",
      "5829/5829 - 20s - loss: 0.1149 - accuracy: 0.9640 - val_loss: 0.0926 - val_accuracy: 0.9722\n",
      "Epoch 3/50\n",
      "\n",
      "Epoch 00003: val_loss did not improve from 0.09255\n",
      "5829/5829 - 19s - loss: 0.1076 - accuracy: 0.9667 - val_loss: 0.1672 - val_accuracy: 0.9352\n",
      "Epoch 4/50\n",
      "\n",
      "Epoch 00004: val_loss improved from 0.09255 to 0.07620, saving model to models/NormalModelCheckpointWeights.h5\n",
      "5829/5829 - 19s - loss: 0.1215 - accuracy: 0.9605 - val_loss: 0.0762 - val_accuracy: 0.9738\n",
      "Epoch 5/50\n",
      "\n",
      "Epoch 00005: val_loss did not improve from 0.07620\n",
      "5829/5829 - 18s - loss: 0.1218 - accuracy: 0.9633 - val_loss: 0.1112 - val_accuracy: 0.9707\n",
      "Epoch 6/50\n",
      "\n",
      "Epoch 00006: val_loss did not improve from 0.07620\n",
      "5829/5829 - 20s - loss: 0.1151 - accuracy: 0.9647 - val_loss: 0.1033 - val_accuracy: 0.9753\n",
      "Epoch 7/50\n",
      "\n",
      "Epoch 00007: val_loss did not improve from 0.07620\n",
      "5829/5829 - 19s - loss: 0.1124 - accuracy: 0.9638 - val_loss: 0.0855 - val_accuracy: 0.9738\n",
      "Epoch 8/50\n",
      "\n",
      "Epoch 00008: val_loss did not improve from 0.07620\n",
      "5829/5829 - 19s - loss: 0.1178 - accuracy: 0.9636 - val_loss: 0.0783 - val_accuracy: 0.9753\n",
      "Epoch 9/50\n",
      "\n",
      "Epoch 00009: val_loss did not improve from 0.07620\n",
      "5829/5829 - 19s - loss: 0.1172 - accuracy: 0.9681 - val_loss: 0.0818 - val_accuracy: 0.9769\n",
      "Epoch 00009: early stopping\n"
     ]
    }
   ],
   "source": [
    "from tensorflow.keras.callbacks import ModelCheckpoint, EarlyStopping\n",
    "# y_train = y_train.values\n",
    "# y_test = y_test.values\n",
    "early_stopping = EarlyStopping(monitor='val_loss', verbose = 1, patience=5)\n",
    "model_checkpoint = ModelCheckpoint('models/NormalModelCheckpointWeights.h5', verbose = 1, save_best_only=True)\n",
    "\n",
    "epochs = 50\n",
    "batch_size = 1\n",
    "normal_model = get_conv_model_normal(x_train, y_train)\n",
    "normal_history = normal_model.fit(x_train, y_train, epochs = epochs, batch_size = batch_size, \n",
    "         callbacks = [early_stopping, model_checkpoint], validation_data = (x_test, y_test), verbose= 2)"
   ]
  },
  {
   "cell_type": "code",
   "execution_count": 33,
   "metadata": {},
   "outputs": [
    {
     "name": "stdout",
     "output_type": "stream",
     "text": [
      "[0.01162955 0.9883704 ] Non-Normal\n"
     ]
    }
   ],
   "source": [
    "normal_model.load_weights('models/NormalModelCheckpointWeights.h5')\n",
    "tester_img = get_image_value('TestImages/Normal6.jpg')\n",
    "tester_img = np.reshape(tester_img, (1, 28,28,3))\n",
    "tester_img.shape\n",
    " \n",
    "normal_order = ['Normal', 'Non-Normal']\n",
    "normal_predict = normal_model.predict(tester_img).squeeze()\n",
    "print(normal_predict,normal_order[np.argmax(normal_predict)])\n",
    "\n"
   ]
  },
  {
   "cell_type": "code",
   "execution_count": null,
   "metadata": {},
   "outputs": [],
   "source": [
    " assert False"
   ]
  },
  {
   "cell_type": "markdown",
   "metadata": {},
   "source": [
    "### Classes of NonNormal"
   ]
  },
  {
   "cell_type": "code",
   "execution_count": null,
   "metadata": {},
   "outputs": [],
   "source": [
    "df = pd.read_csv('../CombinedImages/CombinedUpdated.csv')\n",
    "na_fill = {'VirusCategory1': 'Normal'}\n",
    "df = df.fillna(value = na_fill)\n",
    "df = df.replace('E.Coli', 'Bacterial')\n",
    "df = df.replace('COVID-19, ARDS', 'Viral')\n",
    "df = df.replace('COVID-19', 'Viral')\n",
    "df = df.replace('Mycoplasma Bacterial Pneumonia', 'Bacterial')\n",
    "df = df.replace('Klebsiella', 'Bacterial')\n",
    "df = df.replace('Legionella', 'Bacterial')\n",
    "df = df.replace('Chlamydophila', 'Bacterial')\n",
    "df = df.replace('Pneumocystis', 'Fungal')\n",
    "df = df.replace('Streptococcus', 'Bacterial')\n",
    "df = df.replace('Influenza', 'Viral')\n",
    "df = df.replace('ARDS', 'Viral')\n",
    "df = df.replace('SARS', 'Viral')\n",
    "df = df.replace('Influenza', 'Viral')\n",
    "df = df.replace('Varicella', 'Viral')\n",
    "\n",
    "\n",
    "df.VirusCategory1.unique()\n",
    "# df.VirusCategory1 = df.VirusCategory1.str.strip()\n",
    "pneu_types = ['Viral', 'Bacterial', 'Fungal']\n",
    "df = df.join(pd.get_dummies(df.VirusCategory1.values, prefix = 'type'))\n",
    "\n",
    "df = df[['ImagePath', 'VirusCategory1']+[f'type_{i}' for i in pneu_types]]\n",
    "df = df[df.VirusCategory1.isin(pneu_types)]\n",
    "df.head(3)"
   ]
  },
  {
   "cell_type": "code",
   "execution_count": null,
   "metadata": {},
   "outputs": [],
   "source": [
    "df.VirusCategory1.value_counts()"
   ]
  },
  {
   "cell_type": "code",
   "execution_count": null,
   "metadata": {},
   "outputs": [],
   "source": [
    "random_state = 10\n",
    "X = df[['ImagePath', 'VirusCategory1']]\n",
    "y = df[[f'type_{i}' for i in pneu_types]]\n",
    "x_train, x_test, y_train, y_test = train_test_split(X,y, train_size = .84, stratify = X.VirusCategory1.values)\n",
    "x_train = x_train.drop('VirusCategory1', axis = 1)\n",
    "x_test = x_test.drop('VirusCategory1', axis = 1)\n",
    "x_test.shape\n"
   ]
  },
  {
   "cell_type": "code",
   "execution_count": null,
   "metadata": {},
   "outputs": [],
   "source": [
    "x_test = get_data(x_test)\n",
    "x_train = get_data(x_train)"
   ]
  },
  {
   "cell_type": "code",
   "execution_count": null,
   "metadata": {},
   "outputs": [],
   "source": [
    "def get_conv_model_nonnormal(x, y): \n",
    "    drop = .2 \n",
    "    \n",
    "    model = Sequential() \n",
    "    \n",
    "    model.add(Conv2D(32, kernel_size=(3, 3),activation='relu', input_shape = (28,28,3)))\n",
    "    \n",
    "    model.add(Conv2D(64, (3, 3), activation='relu'))\n",
    "    model.add(Dropout(drop))\n",
    "\n",
    "    model.add(Conv2D(128, (3, 3), activation='relu'))\n",
    "    model.add(Dropout(drop))\n",
    "\n",
    "    model.add(MaxPooling2D(pool_size=(2, 2)))\n",
    "    model.add(Flatten())\n",
    "    \n",
    "    model.add(Dense(128, activation='relu'))\n",
    "    model.add(Dropout(drop))\n",
    "    \n",
    "    model.add(Dense(3, activation='softmax'))\n",
    "    \n",
    "    model.compile(loss = 'categorical_crossentropy', optimizer = 'adam', metrics = ['accuracy'])\n",
    "    return model "
   ]
  },
  {
   "cell_type": "code",
   "execution_count": null,
   "metadata": {
    "scrolled": true
   },
   "outputs": [],
   "source": [
    "\n",
    "# y_train = y_train.values\n",
    "# y_test = y_test.values\n",
    "early_stopping = EarlyStopping(monitor='val_loss', patience=3, verbose=1)\n",
    "model_checkpoint = ModelCheckpoint('models/Non-NormalModelCheckpointWeights.h5', verbose = 1, save_best_only=True)\n",
    "\n",
    "epochs = 50\n",
    "batch_size = 2\n",
    "nonnormal_model = get_conv_model_nonnormal(x_train, y_train)\n",
    "nonnormal_history = nonnormal_model.fit(x_train, y_train, epochs = epochs, batch_size = batch_size, verbose = 2, \n",
    "         callbacks = [early_stopping, model_checkpoint], validation_data = (x_test, y_test))"
   ]
  },
  {
   "cell_type": "code",
   "execution_count": null,
   "metadata": {},
   "outputs": [],
   "source": [
    "assert False"
   ]
  },
  {
   "cell_type": "markdown",
   "metadata": {},
   "source": [
    "### Test on Random Images"
   ]
  },
  {
   "cell_type": "markdown",
   "metadata": {},
   "source": [
    "['Normal', 'COVID-19', 'Bacterial', 'Fungal', 'SARS']\n",
    "['Normal', 'COVID-19', 'Bacterial']"
   ]
  },
  {
   "cell_type": "code",
   "execution_count": null,
   "metadata": {},
   "outputs": [],
   "source": [
    "tester_img = get_image_value('TestImages/Normal2.jpg')\n",
    "tester_img = np.reshape(tester_img, (1, 28,28,3))\n",
    "tester_img.shape\n",
    "def test_stacked(input_image): \n",
    "    normal_order = ['Normal', 'Non-Normal']\n",
    "    nonnormal_order = ['Viral', 'Bacterial', 'Fungal']\n",
    "    normal_predict = normal_model.predict(input_image).squeeze()\n",
    "    if normal_order[np.argmax(normal_predict)] == 'Non-Normal': \n",
    "        nonnormal_predict = nonnormal_model.predict(input_image)\n",
    "        return nonnormal_order[np.argmax(nonnormal_predict)]\n",
    "    else: \n",
    "        return 'Normal'\n",
    "\n",
    "tester_img = get_image_value('TestImages/Normal.jpg')\n",
    "tester_img = np.reshape(tester_img, (1, 28,28,3))\n",
    "test_stacked(tester_img)"
   ]
  },
  {
   "cell_type": "code",
   "execution_count": null,
   "metadata": {},
   "outputs": [],
   "source": []
  }
 ],
 "metadata": {
  "kernelspec": {
   "display_name": "Python 3",
   "language": "python",
   "name": "python3"
  },
  "language_info": {
   "codemirror_mode": {
    "name": "ipython",
    "version": 3
   },
   "file_extension": ".py",
   "mimetype": "text/x-python",
   "name": "python",
   "nbconvert_exporter": "python",
   "pygments_lexer": "ipython3",
   "version": "3.7.4"
  }
 },
 "nbformat": 4,
 "nbformat_minor": 4
}
