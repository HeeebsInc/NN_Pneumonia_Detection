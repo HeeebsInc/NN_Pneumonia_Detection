{
 "cells": [
  {
   "cell_type": "code",
   "execution_count": null,
   "metadata": {
    "scrolled": true
   },
   "outputs": [],
   "source": [
    "from sklearn.preprocessing import LabelEncoder, OneHotEncoder\n",
    "from keras.preprocessing import image \n",
    "import numpy as np \n",
    "import pandas as pd \n",
    "import matplotlib.pyplot as plt\n",
    "from sklearn.model_selection import train_test_split\n",
    "import os\n",
    "from tensorflow.image import rgb_to_grayscale"
   ]
  },
  {
   "cell_type": "code",
   "execution_count": null,
   "metadata": {},
   "outputs": [],
   "source": []
  },
  {
   "cell_type": "markdown",
   "metadata": {},
   "source": [
    "## NN for Normal vs NonNormal"
   ]
  },
  {
   "cell_type": "code",
   "execution_count": null,
   "metadata": {},
   "outputs": [],
   "source": [
    "def normal_nonnormal(x): \n",
    "    if x == 'Normal': \n",
    "        return x \n",
    "    else: \n",
    "        return 'Non-Normal'\n",
    "\n",
    "df = pd.read_csv('../CombinedImages/CombinedUpdated.csv')\n",
    "na_fill = {'VirusCategory1': 'Normal'}\n",
    "df = df.fillna(value = na_fill)\n",
    "\n",
    "df.VirusCategory1 = df.VirusCategory1.map(normal_nonnormal)\n",
    "df = df.join(pd.get_dummies(df.VirusCategory1.values, prefix = 'type'))\n",
    "columns_include = ['Normal', 'Non-Normal']\n",
    "df = df[['ImagePath', 'VirusCategory1'] + [f'type_{i}' for i in columns_include]]\n"
   ]
  },
  {
   "cell_type": "code",
   "execution_count": null,
   "metadata": {},
   "outputs": [],
   "source": [
    "df"
   ]
  },
  {
   "cell_type": "code",
   "execution_count": null,
   "metadata": {},
   "outputs": [],
   "source": [
    "X = df[['ImagePath', 'VirusCategory1']]\n",
    "y = df[[f'type_{i}' for i in columns_include]]\n",
    "\n",
    "x_train, x_test, y_train, y_test = train_test_split(X,y, random_state = 10, stratify = X.VirusCategory1.values,\n",
    "                                                   train_size = .9)\n",
    "\n",
    "x_train = x_train.drop('VirusCategory1', axis = 1)\n",
    "x_test = x_test.drop('VirusCategory1', axis = 1)"
   ]
  },
  {
   "cell_type": "code",
   "execution_count": null,
   "metadata": {},
   "outputs": [],
   "source": [
    "#print(len(df[df['type_Normal']==1]), len(df[df['type_Normal']==0]))"
   ]
  },
  {
   "cell_type": "code",
   "execution_count": null,
   "metadata": {},
   "outputs": [],
   "source": [
    "def get_image_value(path, img_type): \n",
    "    img = image.load_img(path, target_size = (28,28,3))\n",
    "    img = image.img_to_array(img)\n",
    "    if img_type == 'grey':\n",
    "        img = np.dot(img[...,:3], [.2989,.5870,.1140])\n",
    "    return img/255\n",
    "\n",
    "\n",
    "def get_data(df, img_type): \n",
    "    from tqdm import tqdm\n",
    "    img_list = [] \n",
    "    for path in tqdm(df.ImagePath.values):\n",
    "        path = f'../CombinedImages/all/{path}'\n",
    "        img_list.append(get_image_value(path, img_type)) \n",
    "    return np.array(img_list).squeeze()\n",
    "img_type = 'normal'\n",
    "x_test = get_data(x_test, img_type)\n",
    "x_train = get_data(x_train, img_type)\n"
   ]
  },
  {
   "cell_type": "code",
   "execution_count": null,
   "metadata": {},
   "outputs": [],
   "source": [
    "#plt.imshow(x_test[0], cmap = plt.get_cmap('gray'))"
   ]
  },
  {
   "cell_type": "code",
   "execution_count": null,
   "metadata": {},
   "outputs": [],
   "source": [
    "import pickle \n",
    "# pickle.dump(x_train, open('picklesNorm/x_train_normal.p', 'wb'), protocol = 2)\n",
    "# pickle.dump(x_test, open('picklesNorm/x_test_normal.p', 'wb'))\n",
    "\n",
    "pickle.dump(x_train, open('picklesNorm/x_train_grey.p', 'wb'))\n",
    "pickle.dump(x_test, open('picklesNorm/x_test_grey.p', 'wb'))\n",
    "\n",
    "pickle.dump(y_train, open('picklesNorm/y_train.p', 'wb'))\n",
    "pickle.dump(y_test, open('picklesNorm/y_test.p', 'wb'))"
   ]
  },
  {
   "cell_type": "code",
   "execution_count": null,
   "metadata": {},
   "outputs": [],
   "source": [
    "assert False"
   ]
  },
  {
   "cell_type": "code",
   "execution_count": 6,
   "metadata": {},
   "outputs": [],
   "source": [
    "def get_image_value(path, img_type): \n",
    "    img = image.load_img(path, target_size = (28,28,3))\n",
    "    img = image.img_to_array(img)\n",
    "    if img_type == 'grey':\n",
    "        img = np.dot(img[...,:3], [.2989,.5870,.1140])\n",
    "    return img/255\n",
    "\n",
    "img_type = 'normal'\n"
   ]
  },
  {
   "cell_type": "code",
   "execution_count": null,
   "metadata": {},
   "outputs": [],
   "source": []
  },
  {
   "cell_type": "code",
   "execution_count": 138,
   "metadata": {},
   "outputs": [],
   "source": [
    "from keras.models import Sequential\n",
    "from keras.layers import Dense, Dropout, Flatten \n",
    "from keras.layers import Conv2D, MaxPooling2D \n",
    "from keras import regularizers\n",
    "from sklearn.preprocessing import LabelEncoder, OneHotEncoder\n",
    "from keras.preprocessing import image \n",
    "import numpy as np \n",
    "import pandas as pd \n",
    "import matplotlib.pyplot as plt\n",
    "from sklearn.model_selection import train_test_split\n",
    "import os\n",
    "from tensorflow.image import rgb_to_grayscale\n",
    "import pickle\n",
    "from sklearn.metrics import confusion_matrix, accuracy_score, recall_score, precision_score, f1_score\n",
    "from tensorflow.keras.optimizers import Adam\n",
    "from keras_radam import RAdam\n",
    "import tensorflow as tf"
   ]
  },
  {
   "cell_type": "code",
   "execution_count": 186,
   "metadata": {},
   "outputs": [],
   "source": [
    "def get_conv_model_normal(img_type):\n",
    "    if img_type == 'normal': \n",
    "        inp_shape = (28,28,3)\n",
    "    else: \n",
    "        inp_shape = (28,28, 1)\n",
    "    act = 'sigmoid'\n",
    "    drop = .25 \n",
    "    kernal_reg = regularizers.l2(.001)\n",
    "    dil_rate = 2\n",
    "    adam = Adam(.001)\n",
    "    \n",
    "    model = Sequential() \n",
    "    \n",
    "    model.add(Conv2D(128, kernel_size=(3,3),activation=act, input_shape = inp_shape, \n",
    "                     kernel_regularizer = kernal_reg, kernel_initializer = 'he_uniform', padding = 'same'))\n",
    "    model.add(MaxPooling2D(pool_size=(2, 2)))\n",
    "    \n",
    "    model.add(Conv2D(128, (3, 3), activation=act, kernel_regularizer = kernal_reg, dilation_rate = dil_rate, \n",
    "                     kernel_initializer = 'he_uniform', padding = 'same'))\n",
    "    model.add(MaxPooling2D(pool_size=(2, 2)))\n",
    "   \n",
    "    model.add(Flatten())\n",
    "    model.add(Dropout(drop))\n",
    "\n",
    "    model.add(Dense(512, activation='relu'))\n",
    "    model.add(Dropout(drop))\n",
    "\n",
    "    model.add(Dense(2, activation='sigmoid'))\n",
    "    \n",
    "    model.compile(loss = 'binary_crossentropy', optimizer = 'adam', metrics = ['accuracy'])\n",
    "    return model \n",
    "# def get_conv_model_normal(img_type):\n",
    "#     if img_type == 'normal': \n",
    "#         inp_shape = (28,28,3)\n",
    "#     else: \n",
    "#         inp_shape = (28,28, 1)\n",
    "#     drop = .25 \n",
    "#     kernal_reg = regularizers.l2(.001)\n",
    "#     dil_rate = 2\n",
    "#     model = Sequential() \n",
    "    \n",
    "#     model.add(Conv2D(128, kernel_size=(3,3),activation='sigmoid', input_shape = inp_shape, \n",
    "#                      kernel_regularizer = kernal_reg, kernel_initializer = 'he_uniform', padding = 'same'))\n",
    "#     model.add(MaxPooling2D(pool_size=(2, 2)))\n",
    "\n",
    "\n",
    "#     model.add(Conv2D(128, (1, 1), activation='sigmoid', kernel_regularizer = kernal_reg, dilation_rate = dil_rate, \n",
    "#                      kernel_initializer = 'he_uniform', padding = 'same'))\n",
    "#     model.add(MaxPooling2D(pool_size=(2, 2)))\n",
    "    \n",
    "# #     model.add(Conv2D(128, (1, 1), activation='relu', kernel_regularizer = kernal_reg, dilation_rate = dil_rate))\n",
    "# #     model.add(MaxPooling2D(pool_size=(2, 2)))\n",
    "    \n",
    "#     model.add(Flatten())\n",
    "#     model.add(Dropout(drop))\n",
    "    \n",
    "#     model.add(Dense(512, activation='relu'))\n",
    "#     model.add(Dropout(drop))\n",
    "\n",
    "#     model.add(Dense(2, activation='sigmoid'))\n",
    "    \n",
    "#     model.compile(loss = 'binary_crossentropy', optimizer = 'adam', metrics = ['accuracy'])\n",
    "#     return model "
   ]
  },
  {
   "cell_type": "code",
   "execution_count": 187,
   "metadata": {},
   "outputs": [
    {
     "name": "stdout",
     "output_type": "stream",
     "text": [
      "(5829, 28, 28, 3)\n",
      "Epoch 1/200\n",
      "182/183 [============================>.] - ETA: 0s - loss: 0.7281 - accuracy: 0.8982\n",
      "Epoch 00001: val_loss improved from inf to 0.57130, saving model to models/NormalModelCheckpointWeights.h5\n",
      "183/183 [==============================] - 12s 65ms/step - loss: 0.7277 - accuracy: 0.8983 - val_loss: 0.5713 - val_accuracy: 0.9012\n",
      "Epoch 2/200\n",
      "182/183 [============================>.] - ETA: 0s - loss: 0.3103 - accuracy: 0.9444\n",
      "Epoch 00002: val_loss improved from 0.57130 to 0.20106, saving model to models/NormalModelCheckpointWeights.h5\n",
      "183/183 [==============================] - 12s 65ms/step - loss: 0.3105 - accuracy: 0.9442 - val_loss: 0.2011 - val_accuracy: 0.9676\n",
      "Epoch 3/200\n",
      "182/183 [============================>.] - ETA: 0s - loss: 0.1889 - accuracy: 0.9641\n",
      "Epoch 00003: val_loss improved from 0.20106 to 0.15988, saving model to models/NormalModelCheckpointWeights.h5\n",
      "183/183 [==============================] - 12s 65ms/step - loss: 0.1889 - accuracy: 0.9641 - val_loss: 0.1599 - val_accuracy: 0.9660\n",
      "Epoch 4/200\n",
      "182/183 [============================>.] - ETA: 0s - loss: 0.1574 - accuracy: 0.9650\n",
      "Epoch 00004: val_loss improved from 0.15988 to 0.13307, saving model to models/NormalModelCheckpointWeights.h5\n",
      "183/183 [==============================] - 12s 65ms/step - loss: 0.1576 - accuracy: 0.9648 - val_loss: 0.1331 - val_accuracy: 0.9722\n",
      "Epoch 5/200\n",
      "182/183 [============================>.] - ETA: 0s - loss: 0.1442 - accuracy: 0.9639\n",
      "Epoch 00005: val_loss did not improve from 0.13307\n",
      "183/183 [==============================] - 12s 64ms/step - loss: 0.1441 - accuracy: 0.9640 - val_loss: 0.1373 - val_accuracy: 0.9660\n",
      "Epoch 6/200\n",
      "182/183 [============================>.] - ETA: 0s - loss: 0.1414 - accuracy: 0.9663\n",
      "Epoch 00006: val_loss improved from 0.13307 to 0.13303, saving model to models/NormalModelCheckpointWeights.h5\n",
      "183/183 [==============================] - 12s 65ms/step - loss: 0.1424 - accuracy: 0.9662 - val_loss: 0.1330 - val_accuracy: 0.9707\n",
      "Epoch 7/200\n",
      "182/183 [============================>.] - ETA: 0s - loss: 0.1429 - accuracy: 0.9663\n",
      "Epoch 00007: val_loss did not improve from 0.13303\n",
      "183/183 [==============================] - 12s 65ms/step - loss: 0.1432 - accuracy: 0.9660 - val_loss: 0.1341 - val_accuracy: 0.9676\n",
      "Epoch 8/200\n",
      "182/183 [============================>.] - ETA: 0s - loss: 0.1502 - accuracy: 0.9627\n",
      "Epoch 00008: val_loss did not improve from 0.13303\n",
      "183/183 [==============================] - 12s 68ms/step - loss: 0.1502 - accuracy: 0.9628 - val_loss: 0.1935 - val_accuracy: 0.9367\n",
      "Epoch 9/200\n",
      "182/183 [============================>.] - ETA: 0s - loss: 0.1386 - accuracy: 0.9658\n",
      "Epoch 00009: val_loss improved from 0.13303 to 0.12918, saving model to models/NormalModelCheckpointWeights.h5\n",
      "183/183 [==============================] - 12s 66ms/step - loss: 0.1386 - accuracy: 0.9659 - val_loss: 0.1292 - val_accuracy: 0.9676\n",
      "Epoch 10/200\n",
      "182/183 [============================>.] - ETA: 0s - loss: 0.1289 - accuracy: 0.9677\n",
      "Epoch 00010: val_loss did not improve from 0.12918\n",
      "183/183 [==============================] - 12s 65ms/step - loss: 0.1288 - accuracy: 0.9677 - val_loss: 0.1333 - val_accuracy: 0.9722\n",
      "Epoch 11/200\n",
      "182/183 [============================>.] - ETA: 0s - loss: 0.1356 - accuracy: 0.9674\n",
      "Epoch 00011: val_loss improved from 0.12918 to 0.11750, saving model to models/NormalModelCheckpointWeights.h5\n",
      "183/183 [==============================] - 12s 65ms/step - loss: 0.1356 - accuracy: 0.9674 - val_loss: 0.1175 - val_accuracy: 0.9707\n",
      "Epoch 12/200\n",
      "182/183 [============================>.] - ETA: 0s - loss: 0.1289 - accuracy: 0.9669\n",
      "Epoch 00012: val_loss improved from 0.11750 to 0.10933, saving model to models/NormalModelCheckpointWeights.h5\n",
      "183/183 [==============================] - 12s 65ms/step - loss: 0.1289 - accuracy: 0.9669 - val_loss: 0.1093 - val_accuracy: 0.9722\n",
      "Epoch 13/200\n",
      "182/183 [============================>.] - ETA: 0s - loss: 0.1294 - accuracy: 0.9675\n",
      "Epoch 00013: val_loss did not improve from 0.10933\n",
      "183/183 [==============================] - 12s 65ms/step - loss: 0.1294 - accuracy: 0.9676 - val_loss: 0.1245 - val_accuracy: 0.9645\n",
      "Epoch 14/200\n",
      "182/183 [============================>.] - ETA: 0s - loss: 0.1308 - accuracy: 0.9686\n",
      "Epoch 00014: val_loss did not improve from 0.10933\n",
      "183/183 [==============================] - 12s 65ms/step - loss: 0.1307 - accuracy: 0.9686 - val_loss: 0.1157 - val_accuracy: 0.9769\n",
      "Epoch 15/200\n",
      "182/183 [============================>.] - ETA: 0s - loss: 0.1224 - accuracy: 0.9693\n",
      "Epoch 00015: val_loss improved from 0.10933 to 0.10931, saving model to models/NormalModelCheckpointWeights.h5\n",
      "183/183 [==============================] - 12s 65ms/step - loss: 0.1223 - accuracy: 0.9693 - val_loss: 0.1093 - val_accuracy: 0.9738\n",
      "Epoch 16/200\n",
      "182/183 [============================>.] - ETA: 0s - loss: 0.1198 - accuracy: 0.9681\n",
      "Epoch 00016: val_loss did not improve from 0.10931\n",
      "183/183 [==============================] - 12s 65ms/step - loss: 0.1199 - accuracy: 0.9681 - val_loss: 0.1121 - val_accuracy: 0.9722\n",
      "Epoch 17/200\n",
      "182/183 [============================>.] - ETA: 0s - loss: 0.1231 - accuracy: 0.9674\n",
      "Epoch 00017: val_loss did not improve from 0.10931\n",
      "183/183 [==============================] - 12s 65ms/step - loss: 0.1230 - accuracy: 0.9674 - val_loss: 0.1207 - val_accuracy: 0.9707\n",
      "Epoch 18/200\n",
      "182/183 [============================>.] - ETA: 0s - loss: 0.1184 - accuracy: 0.9689\n",
      "Epoch 00018: val_loss did not improve from 0.10931\n",
      "183/183 [==============================] - 12s 65ms/step - loss: 0.1183 - accuracy: 0.9689 - val_loss: 0.1169 - val_accuracy: 0.9676\n",
      "Epoch 19/200\n",
      "182/183 [============================>.] - ETA: 0s - loss: 0.1213 - accuracy: 0.9700\n",
      "Epoch 00019: val_loss did not improve from 0.10931\n",
      "183/183 [==============================] - 12s 65ms/step - loss: 0.1213 - accuracy: 0.9700 - val_loss: 0.1142 - val_accuracy: 0.9707\n",
      "Epoch 20/200\n",
      "182/183 [============================>.] - ETA: 0s - loss: 0.1164 - accuracy: 0.9700\n",
      "Epoch 00020: val_loss did not improve from 0.10931\n",
      "183/183 [==============================] - 12s 65ms/step - loss: 0.1163 - accuracy: 0.9700 - val_loss: 0.1137 - val_accuracy: 0.9660\n",
      "Epoch 00020: early stopping\n"
     ]
    }
   ],
   "source": [
    "from tensorflow.keras.callbacks import ModelCheckpoint, EarlyStopping\n",
    "\n",
    "\n",
    "def get_samples_norm(img_type): \n",
    "    x_train = pickle.load(open(f'picklesNorm/x_train_{img_type}.p', 'rb'))\n",
    "    x_test = pickle.load(open(f'picklesNorm/x_test_{img_type}.p', 'rb'))\n",
    "    y_train = pickle.load(open(f'picklesNorm/y_train.p', 'rb'))\n",
    "    y_test = pickle.load(open(f'picklesNorm/y_test.p', 'rb'))\n",
    "    return x_train, x_test, y_train, y_test\n",
    "x_train, x_test, y_train, y_test = get_samples_norm(img_type)\n",
    "print(x_train.shape)\n",
    "\n",
    "\n",
    "if img_type == 'grey': \n",
    "    x_train = x_train.reshape(len(x_train), 28, 28, 1)\n",
    "    x_test = x_test.reshape(len(x_test), 28, 28, 1)\n",
    "\n",
    "early_stopping = EarlyStopping(monitor='val_loss', verbose = 1, patience=5)\n",
    "model_checkpoint = ModelCheckpoint('models/NormalModelCheckpointWeights.h5', verbose = 1, save_best_only=True)\n",
    "\n",
    "epochs = 200\n",
    "batch_size = 32\n",
    "normal_model = get_conv_model_normal(img_type)\n",
    "normal_history = normal_model.fit(x_train, y_train, epochs = epochs, batch_size = batch_size, \n",
    "         callbacks = [early_stopping, model_checkpoint], validation_data = (x_test, y_test), verbose= 1)"
   ]
  },
  {
   "cell_type": "code",
   "execution_count": 188,
   "metadata": {},
   "outputs": [
    {
     "data": {
      "text/plain": [
       "<matplotlib.legend.Legend at 0x1610de66588>"
      ]
     },
     "execution_count": 188,
     "metadata": {},
     "output_type": "execute_result"
    },
    {
     "data": {
      "image/png": "[encoded data removed]",
      "text/plain": [
       "<Figure size 1080x360 with 2 Axes>"
      ]
     },
     "metadata": {
      "needs_background": "light"
     },
     "output_type": "display_data"
    }
   ],
   "source": [
    "train_loss = normal_history.history['loss']\n",
    "train_acc = normal_history.history['accuracy']\n",
    "test_loss = normal_history.history['val_loss']\n",
    "test_acc = normal_history.history['val_accuracy']\n",
    "epochs = [i for i in range(1, len(test_acc)+1)]\n",
    "\n",
    "fig, ax = plt.subplots(1,2, figsize = (15,5))\n",
    "ax[0].plot(epochs, train_loss, label = 'Train Loss')\n",
    "ax[0].plot(epochs, test_loss, label = 'Test Loss')\n",
    "ax[0].set_title('Train/Test Loss')\n",
    "ax[0].legend()\n",
    "\n",
    "ax[1].plot(epochs, train_acc, label = 'Train Accuracy')\n",
    "ax[1].plot(epochs, test_acc, label = 'Test Accuracy')\n",
    "ax[1].set_title('Train/Test Accuracy')\n",
    "ax[1].legend()"
   ]
  },
  {
   "cell_type": "code",
   "execution_count": 52,
   "metadata": {},
   "outputs": [
    {
     "name": "stdout",
     "output_type": "stream",
     "text": [
      "dict_keys(['loss', 'accuracy', 'val_loss', 'val_accuracy'])\n"
     ]
    },
    {
     "data": {
      "text/plain": [
       "<matplotlib.legend.Legend at 0x16176c02588>"
      ]
     },
     "execution_count": 52,
     "metadata": {},
     "output_type": "execute_result"
    },
    {
     "data": {
      "image/png": "[encoded data removed]",
      "text/plain": [
       "<Figure size 1080x360 with 2 Axes>"
      ]
     },
     "metadata": {
      "needs_background": "light"
     },
     "output_type": "display_data"
    }
   ],
   "source": [
    "train_loss = normal_history.history['loss']\n",
    "train_acc = normal_history.history['accuracy']\n",
    "test_loss = normal_history.history['val_loss']\n",
    "test_acc = normal_history.history['val_accuracy']\n",
    "epochs = [i for i in range(1, len(test_acc)+1)]\n",
    "\n",
    "fig, ax = plt.subplots(1,2, figsize = (15,5))\n",
    "ax[0].plot(epochs, train_loss, label = 'Train Loss')\n",
    "ax[0].plot(epochs, test_loss, label = 'Test Loss')\n",
    "ax[0].set_title('Train/Test Loss')\n",
    "ax[0].legend()\n",
    "\n",
    "ax[1].plot(epochs, train_acc, label = 'Train Accuracy')\n",
    "ax[1].plot(epochs, test_acc, label = 'Test Accuracy')\n",
    "ax[1].set_title('Train/Test Accuracy')\n",
    "ax[1].legend()"
   ]
  },
  {
   "cell_type": "code",
   "execution_count": 196,
   "metadata": {},
   "outputs": [
    {
     "name": "stdout",
     "output_type": "stream",
     "text": [
      "[0.0097564  0.98980427] Non-Normal\n"
     ]
    }
   ],
   "source": [
    "normal_model = get_conv_model_normal(img_type)\n",
    "normal_model.load_weights('models/NormalModelCheckpointWeights.h5')\n",
    "tester_img = get_image_value('TestImages/Normal6.jpg', img_type)\n",
    "if img_type == 'grey': \n",
    "    tester_img = np.reshape(tester_img, (1,28,28,1))\n",
    "else:\n",
    "    tester_img = np.reshape(tester_img, (1,28,28,3))\n",
    "normal_order = ['Normal', 'Non-Normal']\n",
    "normal_predict = normal_model.predict(tester_img).squeeze()\n",
    "print(normal_predict,normal_order[np.argmax(normal_predict)])\n",
    "\n"
   ]
  },
  {
   "cell_type": "code",
   "execution_count": null,
   "metadata": {},
   "outputs": [],
   "source": [
    "test_predict = normal_model.predict(x_test.reshape(len(x_test), 28, 28, 3))\n",
    "print(y_test)\n",
    "print(confusion_matrix(y_test, test_predict))"
   ]
  },
  {
   "cell_type": "code",
   "execution_count": null,
   "metadata": {},
   "outputs": [],
   "source": [
    "assert False"
   ]
  },
  {
   "cell_type": "markdown",
   "metadata": {},
   "source": [
    "### Classes of NonNormal"
   ]
  },
  {
   "cell_type": "code",
   "execution_count": null,
   "metadata": {},
   "outputs": [],
   "source": [
    "from keras.models import Sequential\n",
    "from keras.layers import Dense, Dropout, Flatten \n",
    "from keras.layers import Conv2D, MaxPooling2D \n",
    "from keras import regularizers\n",
    "import pandas as pd\n",
    "import numpy as np\n",
    "from sklearn.model_selection import train_test_split \n",
    "from sklearn.metrics import accuracy_score, f1_score, precision_score, recall_score"
   ]
  },
  {
   "cell_type": "code",
   "execution_count": null,
   "metadata": {},
   "outputs": [],
   "source": [
    "df = pd.read_csv('../CombinedImages/CombinedUpdated.csv')\n",
    "na_fill = {'VirusCategory1': 'Normal'}\n",
    "df = df.fillna(value = na_fill)\n",
    "df = df.replace('E.Coli', 'Bacterial')\n",
    "df = df.replace('COVID-19, ARDS', 'Viral')\n",
    "df = df.replace('COVID-19', 'Viral')\n",
    "df = df.replace('Mycoplasma Bacterial Pneumonia', 'Bacterial')\n",
    "df = df.replace('Klebsiella', 'Bacterial')\n",
    "df = df.replace('Legionella', 'Bacterial')\n",
    "df = df.replace('Chlamydophila', 'Bacterial')\n",
    "df = df.replace('Pneumocystis', 'Fungal')\n",
    "df = df.replace('Streptococcus', 'Bacterial')\n",
    "df = df.replace('Influenza', 'Viral')\n",
    "df = df.replace('ARDS', 'Viral')\n",
    "df = df.replace('SARS', 'Viral')\n",
    "df = df.replace('Influenza', 'Viral')\n",
    "df = df.replace('Varicella', 'Viral')\n",
    "\n",
    "\n",
    "df.VirusCategory1.unique()\n",
    "# df.VirusCategory1 = df.VirusCategory1.str.strip()\n",
    "pneu_types = ['Viral', 'Bacterial', 'Fungal']\n",
    "df = df.join(pd.get_dummies(df.VirusCategory1.values, prefix = 'type'))\n",
    "\n",
    "df = df[['ImagePath', 'VirusCategory1']+[f'type_{i}' for i in pneu_types]]\n",
    "df = df[df.VirusCategory1.isin(pneu_types)]\n",
    "df.head(3)"
   ]
  },
  {
   "cell_type": "code",
   "execution_count": null,
   "metadata": {},
   "outputs": [],
   "source": [
    "df.VirusCategory1.value_counts()"
   ]
  },
  {
   "cell_type": "code",
   "execution_count": null,
   "metadata": {},
   "outputs": [],
   "source": [
    "random_state = 10\n",
    "X = df[['ImagePath', 'VirusCategory1']]\n",
    "y = df[[f'type_{i}' for i in pneu_types]]\n",
    "x_train, x_test, y_train, y_test = train_test_split(X,y, train_size = .84, stratify = X.VirusCategory1.values)\n",
    "x_train = x_train.drop('VirusCategory1', axis = 1)\n",
    "x_test = x_test.drop('VirusCategory1', axis = 1)\n",
    "x_test.shape\n"
   ]
  },
  {
   "cell_type": "code",
   "execution_count": null,
   "metadata": {},
   "outputs": [],
   "source": [
    "img_type = 'normal'\n",
    "x_test = get_data(x_test, img_type)\n",
    "x_train = get_data(x_train, img_type)"
   ]
  },
  {
   "cell_type": "code",
   "execution_count": null,
   "metadata": {},
   "outputs": [],
   "source": [
    "import pickle \n",
    "pickle.dump(x_train, open('picklesNonNorm/x_train_normal.p', 'wb'), protocol = 2)\n",
    "pickle.dump(x_test, open('picklesNonNorm/x_test_normal.p', 'wb'))\n",
    "\n",
    "# pickle.dump(x_train, open('picklesNonNorm/x_train_grey.p', 'wb'))\n",
    "# pickle.dump(x_test, open('picklesNonNorm/x_test_grey.p', 'wb'))\n",
    "\n",
    "pickle.dump(y_train, open('picklesNonNorm/y_train.p', 'wb'))\n",
    "pickle.dump(y_test, open('picklesNonNorm/y_test.p', 'wb'))"
   ]
  },
  {
   "cell_type": "code",
   "execution_count": null,
   "metadata": {},
   "outputs": [],
   "source": [
    "def get_samples_nonnorm(img_type): \n",
    "    x_train = pickle.load(open(f'picklesNonNorm/x_train_{img_type}.p', 'rb'))\n",
    "    x_test = pickle.load(open(f'picklesNonNorm/x_test_{img_type}.p', 'rb'))\n",
    "    y_train = pickle.load(open(f'picklesNonNorm/y_train.p', 'rb'))\n",
    "    y_test = pickle.load(open(f'picklesNonNorm/y_test.p', 'rb'))\n",
    "    return x_train, x_test, y_train, y_test\n"
   ]
  },
  {
   "cell_type": "code",
   "execution_count": null,
   "metadata": {},
   "outputs": [],
   "source": [
    "def get_conv_model_nonnormal(img_type):\n",
    "    if img_type == 'normal': \n",
    "        inp_shape = (28,28,3)\n",
    "    else: \n",
    "        inp_shape = (28,28, 1)\n",
    "    drop = .25 \n",
    "    kernal_reg = regularizers.l2(.001)\n",
    "    dil_rate = 2\n",
    "    model = Sequential() \n",
    "    \n",
    "    model.add(Conv2D(128, kernel_size=(3,3),activation='relu', input_shape = inp_shape, \n",
    "                     kernel_regularizer = kernal_reg))\n",
    "    model.add(MaxPooling2D(pool_size=(2, 2)))\n",
    "\n",
    "\n",
    "    model.add(Conv2D(128, (1, 1), activation='relu', kernel_regularizer = kernal_reg, dilation_rate = dil_rate))\n",
    "    model.add(MaxPooling2D(pool_size=(2, 2)))\n",
    "    \n",
    "    model.add(Conv2D(128, (1, 1), activation='relu', kernel_regularizer = kernal_reg, dilation_rate = dil_rate))\n",
    "    model.add(MaxPooling2D(pool_size=(2, 2)))\n",
    "    \n",
    "    model.add(Flatten())\n",
    "    model.add(Dropout(drop))\n",
    "    \n",
    "    \n",
    "    model.add(Dense(512, activation='relu'))\n",
    "    model.add(Dropout(drop))\n",
    "\n",
    "    model.add(Dense(3, activation='softmax'))\n",
    "    \n",
    "    model.compile(loss = 'categorical_crossentropy', optimizer = 'adam', metrics = ['accuracy'])\n",
    "    return model "
   ]
  },
  {
   "cell_type": "code",
   "execution_count": null,
   "metadata": {
    "scrolled": true
   },
   "outputs": [],
   "source": [
    "from tensorflow.keras.callbacks import ModelCheckpoint, EarlyStopping\n",
    "\n",
    "def get_samples_nonnorm(img_type): \n",
    "    x_train = pickle.load(open(f'picklesNonNorm/x_train_{img_type}.p', 'rb'))\n",
    "    x_test = pickle.load(open(f'picklesNonNorm/x_test_{img_type}.p', 'rb'))\n",
    "    y_train = pickle.load(open(f'picklesNonNorm/y_train.p', 'rb'))\n",
    "    y_test = pickle.load(open(f'picklesNonNorm/y_test.p', 'rb'))\n",
    "    return x_train, x_test, y_train, y_test\n",
    "img_type = 'normal'\n",
    "\n",
    "x_train, x_test, y_train, y_test = get_samples_nonnorm(img_type)\n",
    "x_train.shape\n",
    "\n",
    "if img_type == 'grey': \n",
    "    x_train = x_train.reshape(len(x_train), 28, 28, 1)\n",
    "early_stopping = EarlyStopping(monitor='val_loss', patience=3, verbose=1)\n",
    "model_checkpoint = ModelCheckpoint('models/Non-NormalModelCheckpointWeights.h5', verbose = 1, save_best_only=True)\n",
    "\n",
    "epochs = 50\n",
    "batch_size = 1\n",
    "nonnormal_model = get_conv_model_nonnormal(img_type)\n",
    "nonnormal_history = nonnormal_model.fit(x_train, y_train, epochs = epochs, batch_size = batch_size, verbose = 1, \n",
    "         callbacks = [early_stopping, model_checkpoint], validation_data = (x_test, y_test))"
   ]
  },
  {
   "cell_type": "code",
   "execution_count": null,
   "metadata": {},
   "outputs": [],
   "source": [
    "assert False"
   ]
  },
  {
   "cell_type": "markdown",
   "metadata": {},
   "source": [
    "### Test on Random Images"
   ]
  },
  {
   "cell_type": "markdown",
   "metadata": {},
   "source": [
    "['Normal', 'COVID-19', 'Bacterial', 'Fungal', 'SARS']\n",
    "['Normal', 'COVID-19', 'Bacterial']"
   ]
  },
  {
   "cell_type": "code",
   "execution_count": null,
   "metadata": {},
   "outputs": [],
   "source": [
    "tester_img = get_image_value('TestImages/Bacterial.jpg', img_type)\n",
    "if img_type == 'normal':\n",
    "    tester_img = np.reshape(tester_img, (1, 28,28,3))\n",
    "    print(tester_img.shape)\n",
    "def test_stacked(input_image, img_type): \n",
    "    normal_order = ['Normal', 'Non-Normal']\n",
    "    nonnormal_order = ['Viral', 'Bacterial', 'Fungal']\n",
    "    normal_model = get_conv_model_normal(img_type)\n",
    "    normal_model.load_weights('models/NormalModelCheckpointWeights.h5')\n",
    "    \n",
    "    normal_predict = normal_model.predict(tester_img).squeeze()\n",
    "    if normal_order[np.argmax(normal_predict)] == 'Non-Normal': \n",
    "        nonnormal_predict = nonnormal_model.predict(input_image)\n",
    "        return nonnormal_order[np.argmax(nonnormal_predict)]\n",
    "    else: \n",
    "        return 'Normal'\n",
    "test_stacked(tester_img, img_type)"
   ]
  },
  {
   "cell_type": "code",
   "execution_count": null,
   "metadata": {},
   "outputs": [],
   "source": []
  }
 ],
 "metadata": {
  "kernelspec": {
   "display_name": "Python 3",
   "language": "python",
   "name": "python3"
  },
  "language_info": {
   "codemirror_mode": {
    "name": "ipython",
    "version": 3
   },
   "file_extension": ".py",
   "mimetype": "text/x-python",
   "name": "python",
   "nbconvert_exporter": "python",
   "pygments_lexer": "ipython3",
   "version": "3.7.4"
  }
 },
 "nbformat": 4,
 "nbformat_minor": 4
}
