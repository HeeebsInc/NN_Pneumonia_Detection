{
 "cells": [
  {
   "cell_type": "code",
   "execution_count": 134,
   "metadata": {
    "scrolled": true
   },
   "outputs": [],
   "source": [
    "from sklearn.preprocessing import LabelEncoder, OneHotEncoder\n",
    "from keras.preprocessing import image \n",
    "import numpy as np \n",
    "import pandas as pd \n",
    "import matplotlib.pyplot as plt\n",
    "from sklearn.model_selection import train_test_split\n",
    "import os"
   ]
  },
  {
   "cell_type": "code",
   "execution_count": null,
   "metadata": {},
   "outputs": [],
   "source": []
  },
  {
   "cell_type": "markdown",
   "metadata": {},
   "source": [
    "## NN for Normal vs NonNormal"
   ]
  },
  {
   "cell_type": "code",
   "execution_count": 138,
   "metadata": {},
   "outputs": [],
   "source": [
    "def normal_nonnormal(x): \n",
    "    if x == 'Normal': \n",
    "        return x \n",
    "    else: \n",
    "        return 'Non-Normal'\n",
    "\n",
    "df = pd.read_csv('../CombinedImages/CombinedUpdated.csv')\n",
    "na_fill = {'VirusCategory1': 'Normal'}\n",
    "df = df.fillna(value = na_fill)\n",
    "\n",
    "df.VirusCategory1 = df.VirusCategory1.map(normal_nonnormal)\n",
    "df = df.join(pd.get_dummies(df.VirusCategory1.values, prefix = 'type'))\n",
    "columns_include = ['Normal', 'Non-Normal']\n",
    "df = df[['ImagePath', 'VirusCategory1'] + [f'type_{i}' for i in columns_include]]\n"
   ]
  },
  {
   "cell_type": "code",
   "execution_count": 139,
   "metadata": {},
   "outputs": [
    {
     "data": {
      "text/html": [
       "<div>\n",
       "<style scoped>\n",
       "    .dataframe tbody tr th:only-of-type {\n",
       "        vertical-align: middle;\n",
       "    }\n",
       "\n",
       "    .dataframe tbody tr th {\n",
       "        vertical-align: top;\n",
       "    }\n",
       "\n",
       "    .dataframe thead th {\n",
       "        text-align: right;\n",
       "    }\n",
       "</style>\n",
       "<table border=\"1\" class=\"dataframe\">\n",
       "  <thead>\n",
       "    <tr style=\"text-align: right;\">\n",
       "      <th></th>\n",
       "      <th>ImagePath</th>\n",
       "      <th>VirusCategory1</th>\n",
       "      <th>type_Normal</th>\n",
       "      <th>type_Non-Normal</th>\n",
       "    </tr>\n",
       "  </thead>\n",
       "  <tbody>\n",
       "    <tr>\n",
       "      <th>0</th>\n",
       "      <td>IM-0128-0001.jpeg</td>\n",
       "      <td>Normal</td>\n",
       "      <td>1</td>\n",
       "      <td>0</td>\n",
       "    </tr>\n",
       "    <tr>\n",
       "      <th>1</th>\n",
       "      <td>IM-0127-0001.jpeg</td>\n",
       "      <td>Normal</td>\n",
       "      <td>1</td>\n",
       "      <td>0</td>\n",
       "    </tr>\n",
       "    <tr>\n",
       "      <th>2</th>\n",
       "      <td>IM-0125-0001.jpeg</td>\n",
       "      <td>Normal</td>\n",
       "      <td>1</td>\n",
       "      <td>0</td>\n",
       "    </tr>\n",
       "    <tr>\n",
       "      <th>3</th>\n",
       "      <td>IM-0122-0001.jpeg</td>\n",
       "      <td>Normal</td>\n",
       "      <td>1</td>\n",
       "      <td>0</td>\n",
       "    </tr>\n",
       "    <tr>\n",
       "      <th>4</th>\n",
       "      <td>IM-0119-0001.jpeg</td>\n",
       "      <td>Normal</td>\n",
       "      <td>1</td>\n",
       "      <td>0</td>\n",
       "    </tr>\n",
       "    <tr>\n",
       "      <th>...</th>\n",
       "      <td>...</td>\n",
       "      <td>...</td>\n",
       "      <td>...</td>\n",
       "      <td>...</td>\n",
       "    </tr>\n",
       "    <tr>\n",
       "      <th>6472</th>\n",
       "      <td>covid-19-caso-95-2-16.png</td>\n",
       "      <td>Non-Normal</td>\n",
       "      <td>0</td>\n",
       "      <td>1</td>\n",
       "    </tr>\n",
       "    <tr>\n",
       "      <th>6473</th>\n",
       "      <td>covid-19-caso-95-3-14.png</td>\n",
       "      <td>Non-Normal</td>\n",
       "      <td>0</td>\n",
       "      <td>1</td>\n",
       "    </tr>\n",
       "    <tr>\n",
       "      <th>6474</th>\n",
       "      <td>covid-19-caso-95-4-12.png</td>\n",
       "      <td>Non-Normal</td>\n",
       "      <td>0</td>\n",
       "      <td>1</td>\n",
       "    </tr>\n",
       "    <tr>\n",
       "      <th>6475</th>\n",
       "      <td>covid-19-caso-99-1-19.png</td>\n",
       "      <td>Non-Normal</td>\n",
       "      <td>0</td>\n",
       "      <td>1</td>\n",
       "    </tr>\n",
       "    <tr>\n",
       "      <th>6476</th>\n",
       "      <td>covid-19-caso-111-1-21.png</td>\n",
       "      <td>Non-Normal</td>\n",
       "      <td>0</td>\n",
       "      <td>1</td>\n",
       "    </tr>\n",
       "  </tbody>\n",
       "</table>\n",
       "<p>6477 rows × 4 columns</p>\n",
       "</div>"
      ],
      "text/plain": [
       "                       ImagePath VirusCategory1  type_Normal  type_Non-Normal\n",
       "0              IM-0128-0001.jpeg         Normal            1                0\n",
       "1              IM-0127-0001.jpeg         Normal            1                0\n",
       "2              IM-0125-0001.jpeg         Normal            1                0\n",
       "3              IM-0122-0001.jpeg         Normal            1                0\n",
       "4              IM-0119-0001.jpeg         Normal            1                0\n",
       "...                          ...            ...          ...              ...\n",
       "6472   covid-19-caso-95-2-16.png     Non-Normal            0                1\n",
       "6473   covid-19-caso-95-3-14.png     Non-Normal            0                1\n",
       "6474   covid-19-caso-95-4-12.png     Non-Normal            0                1\n",
       "6475   covid-19-caso-99-1-19.png     Non-Normal            0                1\n",
       "6476  covid-19-caso-111-1-21.png     Non-Normal            0                1\n",
       "\n",
       "[6477 rows x 4 columns]"
      ]
     },
     "execution_count": 139,
     "metadata": {},
     "output_type": "execute_result"
    }
   ],
   "source": [
    "df"
   ]
  },
  {
   "cell_type": "code",
   "execution_count": 140,
   "metadata": {},
   "outputs": [],
   "source": [
    "X = df[['ImagePath', 'VirusCategory1']]\n",
    "y = df[[f'type_{i}' for i in columns_include]]\n",
    "\n",
    "x_train, x_test, y_train, y_test = train_test_split(X,y, random_state = 10, stratify = X.VirusCategory1.values,\n",
    "                                                   train_size = .9)\n",
    "\n",
    "x_train = x_train.drop('VirusCategory1', axis = 1)\n",
    "x_test = x_test.drop('VirusCategory1', axis = 1)"
   ]
  },
  {
   "cell_type": "code",
   "execution_count": 141,
   "metadata": {},
   "outputs": [
    {
     "name": "stdout",
     "output_type": "stream",
     "text": [
      "5841 636\n"
     ]
    }
   ],
   "source": [
    "print(len(df[df['type_Normal']==1]), len(df[df['type_Normal']==0]))"
   ]
  },
  {
   "cell_type": "code",
   "execution_count": 142,
   "metadata": {},
   "outputs": [
    {
     "name": "stderr",
     "output_type": "stream",
     "text": [
      "100%|██████████| 648/648 [00:08<00:00, 74.76it/s]\n",
      "100%|██████████| 5829/5829 [01:24<00:00, 69.24it/s]\n"
     ]
    }
   ],
   "source": [
    "def get_image_value(path): \n",
    "    img = image.load_img(path, target_size = (28,28,1))\n",
    "    img = image.img_to_array(img)/255\n",
    "    return img \n",
    "\n",
    "\n",
    "def get_data(df): \n",
    "    from tqdm import tqdm\n",
    "    img_list = [] \n",
    "    for path in tqdm(df.ImagePath.values):\n",
    "        path = f'../CombinedImages/all/{path}'\n",
    "        img_list.append(get_image_value(path)) \n",
    "    return np.array(img_list).squeeze()\n",
    "\n",
    "x_test = get_data(x_test)\n",
    "x_train = get_data(x_train)\n"
   ]
  },
  {
   "cell_type": "code",
   "execution_count": 143,
   "metadata": {},
   "outputs": [
    {
     "name": "stdout",
     "output_type": "stream",
     "text": [
      "(5829, 2)\n"
     ]
    }
   ],
   "source": [
    "y_train.values.reshape(-1,1)\n",
    "print(y_train.shape)"
   ]
  },
  {
   "cell_type": "code",
   "execution_count": 147,
   "metadata": {},
   "outputs": [],
   "source": [
    "from keras.models import Sequential\n",
    "from keras.layers import Dense, Dropout, Flatten \n",
    "from keras.layers import Conv2D, MaxPooling2D \n",
    "from keras import regularizers"
   ]
  },
  {
   "cell_type": "code",
   "execution_count": 176,
   "metadata": {},
   "outputs": [],
   "source": [
    "def get_conv_model_normal(x, y): \n",
    "    drop = .25 \n",
    "    kernal_reg = regularizers.l2(.001)\n",
    "    dil_rate = 2\n",
    "    model = Sequential() \n",
    "    \n",
    "    model.add(Conv2D(128, kernel_size=(3,3),activation='relu', input_shape = (28,28,3), \n",
    "                     kernel_regularizer = kernal_reg))\n",
    "    model.add(MaxPooling2D(pool_size=(2, 2)))\n",
    "\n",
    "\n",
    "    model.add(Conv2D(128, (1, 1), activation='relu', kernel_regularizer = kernal_reg, dilation_rate = dil_rate))\n",
    "    model.add(MaxPooling2D(pool_size=(2, 2)))\n",
    "    \n",
    "    model.add(Conv2D(128, (1, 1), activation='relu', kernel_regularizer = kernal_reg, dilation_rate = dil_rate))\n",
    "    model.add(MaxPooling2D(pool_size=(2, 2)))\n",
    "    \n",
    "    model.add(Flatten())\n",
    "    model.add(Dropout(drop))\n",
    "    \n",
    "    \n",
    "    model.add(Dense(512, activation='relu'))\n",
    "    model.add(Dropout(drop))\n",
    "\n",
    "    model.add(Dense(2, activation='sigmoid'))\n",
    "    \n",
    "    model.compile(loss = 'binary_crossentropy', optimizer = 'adam', metrics = ['accuracy'])\n",
    "    return model "
   ]
  },
  {
   "cell_type": "code",
   "execution_count": 177,
   "metadata": {},
   "outputs": [
    {
     "name": "stdout",
     "output_type": "stream",
     "text": [
      "Epoch 1/50\n",
      "183/183 [==============================] - ETA: 0s - loss: 0.3076 - accuracy: 0.9384\n",
      "Epoch 00001: val_loss improved from inf to 0.15296, saving model to models/NormalModelCheckpointWeights.h5\n",
      "183/183 [==============================] - 9s 52ms/step - loss: 0.3076 - accuracy: 0.9384 - val_loss: 0.1530 - val_accuracy: 0.9707\n",
      "Epoch 2/50\n",
      "182/183 [============================>.] - ETA: 0s - loss: 0.1442 - accuracy: 0.9688\n",
      "Epoch 00002: val_loss improved from 0.15296 to 0.10143, saving model to models/NormalModelCheckpointWeights.h5\n",
      "183/183 [==============================] - 9s 50ms/step - loss: 0.1442 - accuracy: 0.9688 - val_loss: 0.1014 - val_accuracy: 0.9799\n",
      "Epoch 3/50\n",
      "182/183 [============================>.] - ETA: 0s - loss: 0.1165 - accuracy: 0.9718\n",
      "Epoch 00003: val_loss improved from 0.10143 to 0.08200, saving model to models/NormalModelCheckpointWeights.h5\n",
      "183/183 [==============================] - 9s 50ms/step - loss: 0.1165 - accuracy: 0.9719 - val_loss: 0.0820 - val_accuracy: 0.9846\n",
      "Epoch 4/50\n",
      "183/183 [==============================] - ETA: 0s - loss: 0.1105 - accuracy: 0.9700\n",
      "Epoch 00004: val_loss improved from 0.08200 to 0.06909, saving model to models/NormalModelCheckpointWeights.h5\n",
      "183/183 [==============================] - 9s 50ms/step - loss: 0.1105 - accuracy: 0.9700 - val_loss: 0.0691 - val_accuracy: 0.9907\n",
      "Epoch 5/50\n",
      "182/183 [============================>.] - ETA: 0s - loss: 0.0969 - accuracy: 0.9746\n",
      "Epoch 00005: val_loss improved from 0.06909 to 0.06746, saving model to models/NormalModelCheckpointWeights.h5\n",
      "183/183 [==============================] - 9s 50ms/step - loss: 0.0969 - accuracy: 0.9746 - val_loss: 0.0675 - val_accuracy: 0.9892\n",
      "Epoch 6/50\n",
      "183/183 [==============================] - ETA: 0s - loss: 0.0892 - accuracy: 0.9758\n",
      "Epoch 00006: val_loss improved from 0.06746 to 0.06281, saving model to models/NormalModelCheckpointWeights.h5\n",
      "183/183 [==============================] - 9s 50ms/step - loss: 0.0892 - accuracy: 0.9758 - val_loss: 0.0628 - val_accuracy: 0.9861\n",
      "Epoch 7/50\n",
      "182/183 [============================>.] - ETA: 0s - loss: 0.0901 - accuracy: 0.9742\n",
      "Epoch 00007: val_loss did not improve from 0.06281\n",
      "183/183 [==============================] - 9s 50ms/step - loss: 0.0900 - accuracy: 0.9743 - val_loss: 0.0733 - val_accuracy: 0.9877\n",
      "Epoch 8/50\n",
      "182/183 [============================>.] - ETA: 0s - loss: 0.0790 - accuracy: 0.9770\n",
      "Epoch 00008: val_loss improved from 0.06281 to 0.05409, saving model to models/NormalModelCheckpointWeights.h5\n",
      "183/183 [==============================] - 10s 52ms/step - loss: 0.0792 - accuracy: 0.9768 - val_loss: 0.0541 - val_accuracy: 0.9923\n",
      "Epoch 9/50\n",
      "182/183 [============================>.] - ETA: 0s - loss: 0.0856 - accuracy: 0.9751\n",
      "Epoch 00009: val_loss did not improve from 0.05409\n",
      "183/183 [==============================] - 9s 50ms/step - loss: 0.0855 - accuracy: 0.9751 - val_loss: 0.0654 - val_accuracy: 0.9861\n",
      "Epoch 10/50\n",
      "182/183 [============================>.] - ETA: 0s - loss: 0.0767 - accuracy: 0.9782\n",
      "Epoch 00010: val_loss improved from 0.05409 to 0.05075, saving model to models/NormalModelCheckpointWeights.h5\n",
      "183/183 [==============================] - 9s 50ms/step - loss: 0.0767 - accuracy: 0.9782 - val_loss: 0.0507 - val_accuracy: 0.9938\n",
      "Epoch 11/50\n",
      "182/183 [============================>.] - ETA: 0s - loss: 0.0746 - accuracy: 0.9791\n",
      "Epoch 00011: val_loss did not improve from 0.05075\n",
      "183/183 [==============================] - 9s 50ms/step - loss: 0.0745 - accuracy: 0.9791 - val_loss: 0.0540 - val_accuracy: 0.9877\n",
      "Epoch 12/50\n",
      "183/183 [==============================] - ETA: 0s - loss: 0.0726 - accuracy: 0.9794\n",
      "Epoch 00012: val_loss did not improve from 0.05075\n",
      "183/183 [==============================] - 9s 50ms/step - loss: 0.0726 - accuracy: 0.9794 - val_loss: 0.0543 - val_accuracy: 0.9846\n",
      "Epoch 13/50\n",
      "182/183 [============================>.] - ETA: 0s - loss: 0.0696 - accuracy: 0.9799\n",
      "Epoch 00013: val_loss improved from 0.05075 to 0.04490, saving model to models/NormalModelCheckpointWeights.h5\n",
      "183/183 [==============================] - 9s 50ms/step - loss: 0.0696 - accuracy: 0.9799 - val_loss: 0.0449 - val_accuracy: 0.9923\n",
      "Epoch 14/50\n",
      "182/183 [============================>.] - ETA: 0s - loss: 0.0670 - accuracy: 0.9813\n",
      "Epoch 00014: val_loss did not improve from 0.04490\n",
      "183/183 [==============================] - 9s 50ms/step - loss: 0.0670 - accuracy: 0.9813 - val_loss: 0.0771 - val_accuracy: 0.9707\n",
      "Epoch 15/50\n",
      "183/183 [==============================] - ETA: 0s - loss: 0.0663 - accuracy: 0.9799\n",
      "Epoch 00015: val_loss did not improve from 0.04490\n",
      "183/183 [==============================] - 9s 51ms/step - loss: 0.0663 - accuracy: 0.9799 - val_loss: 0.0609 - val_accuracy: 0.9830\n",
      "Epoch 16/50\n",
      "182/183 [============================>.] - ETA: 0s - loss: 0.0687 - accuracy: 0.9797\n",
      "Epoch 00016: val_loss did not improve from 0.04490\n",
      "183/183 [==============================] - 9s 51ms/step - loss: 0.0687 - accuracy: 0.9798 - val_loss: 0.0499 - val_accuracy: 0.9923\n",
      "Epoch 17/50\n",
      "182/183 [============================>.] - ETA: 0s - loss: 0.0599 - accuracy: 0.9830\n",
      "Epoch 00017: val_loss improved from 0.04490 to 0.04048, saving model to models/NormalModelCheckpointWeights.h5\n",
      "183/183 [==============================] - 9s 50ms/step - loss: 0.0598 - accuracy: 0.9830 - val_loss: 0.0405 - val_accuracy: 0.9938\n",
      "Epoch 18/50\n",
      "183/183 [==============================] - ETA: 0s - loss: 0.0640 - accuracy: 0.9822\n",
      "Epoch 00018: val_loss did not improve from 0.04048\n",
      "183/183 [==============================] - 9s 52ms/step - loss: 0.0640 - accuracy: 0.9822 - val_loss: 0.0475 - val_accuracy: 0.9877\n",
      "Epoch 19/50\n",
      "183/183 [==============================] - ETA: 0s - loss: 0.0544 - accuracy: 0.9852\n",
      "Epoch 00019: val_loss did not improve from 0.04048\n",
      "183/183 [==============================] - 9s 51ms/step - loss: 0.0544 - accuracy: 0.9852 - val_loss: 0.0439 - val_accuracy: 0.9907\n",
      "Epoch 20/50\n",
      "182/183 [============================>.] - ETA: 0s - loss: 0.0615 - accuracy: 0.9830\n",
      "Epoch 00020: val_loss did not improve from 0.04048\n",
      "183/183 [==============================] - 9s 51ms/step - loss: 0.0615 - accuracy: 0.9830 - val_loss: 0.0471 - val_accuracy: 0.9892\n",
      "Epoch 21/50\n",
      "182/183 [============================>.] - ETA: 0s - loss: 0.0581 - accuracy: 0.9832\n",
      "Epoch 00021: val_loss did not improve from 0.04048\n",
      "183/183 [==============================] - 9s 51ms/step - loss: 0.0580 - accuracy: 0.9832 - val_loss: 0.0490 - val_accuracy: 0.9923\n",
      "Epoch 22/50\n",
      "182/183 [============================>.] - ETA: 0s - loss: 0.0592 - accuracy: 0.9839\n",
      "Epoch 00022: val_loss did not improve from 0.04048\n",
      "183/183 [==============================] - 9s 52ms/step - loss: 0.0592 - accuracy: 0.9839 - val_loss: 0.0503 - val_accuracy: 0.9877\n",
      "Epoch 00022: early stopping\n"
     ]
    }
   ],
   "source": [
    "from tensorflow.keras.callbacks import ModelCheckpoint, EarlyStopping\n",
    "#y_train = y_train.values\n",
    "# y_test = y_test.values\n",
    "early_stopping = EarlyStopping(monitor='val_loss', verbose = 1, patience=5)\n",
    "model_checkpoint = ModelCheckpoint('models/NormalModelCheckpointWeights.h5', verbose = 1, save_best_only=True)\n",
    "\n",
    "epochs = 50\n",
    "batch_size = 32\n",
    "normal_model = get_conv_model_normal(x_train, y_train)\n",
    "normal_history = normal_model.fit(x_train, y_train, epochs = epochs, batch_size = batch_size, \n",
    "         callbacks = [early_stopping, model_checkpoint], validation_data = (x_test, y_test), verbose= 1)"
   ]
  },
  {
   "cell_type": "code",
   "execution_count": 201,
   "metadata": {},
   "outputs": [
    {
     "name": "stdout",
     "output_type": "stream",
     "text": [
      "[0.00184827 0.9981255 ] Non-Normal\n"
     ]
    }
   ],
   "source": [
    "normal_model.load_weights('models/NormalModelCheckpointWeights.h5')\n",
    "tester_img = get_image_value('TestImages/Bacterial.jpg')\n",
    "tester_img = np.reshape(tester_img, (1, 28,28,3))\n",
    "tester_img.shape\n",
    " \n",
    "normal_order = ['Normal', 'Non-Normal']\n",
    "normal_predict = normal_model.predict(tester_img).squeeze()\n",
    "print(normal_predict,normal_order[np.argmax(normal_predict)])\n",
    "\n"
   ]
  },
  {
   "cell_type": "code",
   "execution_count": null,
   "metadata": {},
   "outputs": [],
   "source": [
    " assert False"
   ]
  },
  {
   "cell_type": "markdown",
   "metadata": {},
   "source": [
    "### Classes of NonNormal"
   ]
  },
  {
   "cell_type": "code",
   "execution_count": null,
   "metadata": {},
   "outputs": [],
   "source": [
    "df = pd.read_csv('../CombinedImages/CombinedUpdated.csv')\n",
    "na_fill = {'VirusCategory1': 'Normal'}\n",
    "df = df.fillna(value = na_fill)\n",
    "df = df.replace('E.Coli', 'Bacterial')\n",
    "df = df.replace('COVID-19, ARDS', 'Viral')\n",
    "df = df.replace('COVID-19', 'Viral')\n",
    "df = df.replace('Mycoplasma Bacterial Pneumonia', 'Bacterial')\n",
    "df = df.replace('Klebsiella', 'Bacterial')\n",
    "df = df.replace('Legionella', 'Bacterial')\n",
    "df = df.replace('Chlamydophila', 'Bacterial')\n",
    "df = df.replace('Pneumocystis', 'Fungal')\n",
    "df = df.replace('Streptococcus', 'Bacterial')\n",
    "df = df.replace('Influenza', 'Viral')\n",
    "df = df.replace('ARDS', 'Viral')\n",
    "df = df.replace('SARS', 'Viral')\n",
    "df = df.replace('Influenza', 'Viral')\n",
    "df = df.replace('Varicella', 'Viral')\n",
    "\n",
    "\n",
    "df.VirusCategory1.unique()\n",
    "# df.VirusCategory1 = df.VirusCategory1.str.strip()\n",
    "pneu_types = ['Viral', 'Bacterial', 'Fungal']\n",
    "df = df.join(pd.get_dummies(df.VirusCategory1.values, prefix = 'type'))\n",
    "\n",
    "df = df[['ImagePath', 'VirusCategory1']+[f'type_{i}' for i in pneu_types]]\n",
    "df = df[df.VirusCategory1.isin(pneu_types)]\n",
    "df.head(3)"
   ]
  },
  {
   "cell_type": "code",
   "execution_count": null,
   "metadata": {},
   "outputs": [],
   "source": [
    "df.VirusCategory1.value_counts()"
   ]
  },
  {
   "cell_type": "code",
   "execution_count": null,
   "metadata": {},
   "outputs": [],
   "source": [
    "random_state = 10\n",
    "X = df[['ImagePath', 'VirusCategory1']]\n",
    "y = df[[f'type_{i}' for i in pneu_types]]\n",
    "x_train, x_test, y_train, y_test = train_test_split(X,y, train_size = .84, stratify = X.VirusCategory1.values)\n",
    "x_train = x_train.drop('VirusCategory1', axis = 1)\n",
    "x_test = x_test.drop('VirusCategory1', axis = 1)\n",
    "x_test.shape\n"
   ]
  },
  {
   "cell_type": "code",
   "execution_count": null,
   "metadata": {},
   "outputs": [],
   "source": [
    "x_test = get_data(x_test)\n",
    "x_train = get_data(x_train)"
   ]
  },
  {
   "cell_type": "code",
   "execution_count": null,
   "metadata": {},
   "outputs": [],
   "source": [
    "def get_conv_model_nonnormal(x, y): \n",
    "    drop = .2 \n",
    "    \n",
    "    model = Sequential() \n",
    "    \n",
    "    model.add(Conv2D(32, kernel_size=(3, 3),activation='relu', input_shape = (28,28,3)))\n",
    "    \n",
    "    model.add(Conv2D(64, (3, 3), activation='relu'))\n",
    "    model.add(Dropout(drop))\n",
    "\n",
    "    model.add(Conv2D(128, (3, 3), activation='relu'))\n",
    "    model.add(Dropout(drop))\n",
    "\n",
    "    model.add(MaxPooling2D(pool_size=(2, 2)))\n",
    "    model.add(Flatten())\n",
    "    \n",
    "    model.add(Dense(128, activation='relu'))\n",
    "    model.add(Dropout(drop))\n",
    "    \n",
    "    model.add(Dense(3, activation='softmax'))\n",
    "    \n",
    "    model.compile(loss = 'categorical_crossentropy', optimizer = 'adam', metrics = ['accuracy'])\n",
    "    return model "
   ]
  },
  {
   "cell_type": "code",
   "execution_count": null,
   "metadata": {
    "scrolled": true
   },
   "outputs": [],
   "source": [
    "\n",
    "# y_train = y_train.values\n",
    "# y_test = y_test.values\n",
    "early_stopping = EarlyStopping(monitor='val_loss', patience=3, verbose=1)\n",
    "model_checkpoint = ModelCheckpoint('models/Non-NormalModelCheckpointWeights.h5', verbose = 1, save_best_only=True)\n",
    "\n",
    "epochs = 50\n",
    "batch_size = 2\n",
    "nonnormal_model = get_conv_model_nonnormal(x_train, y_train)\n",
    "nonnormal_history = nonnormal_model.fit(x_train, y_train, epochs = epochs, batch_size = batch_size, verbose = 2, \n",
    "         callbacks = [early_stopping, model_checkpoint], validation_data = (x_test, y_test))"
   ]
  },
  {
   "cell_type": "code",
   "execution_count": null,
   "metadata": {},
   "outputs": [],
   "source": [
    "assert False"
   ]
  },
  {
   "cell_type": "markdown",
   "metadata": {},
   "source": [
    "### Test on Random Images"
   ]
  },
  {
   "cell_type": "markdown",
   "metadata": {},
   "source": [
    "['Normal', 'COVID-19', 'Bacterial', 'Fungal', 'SARS']\n",
    "['Normal', 'COVID-19', 'Bacterial']"
   ]
  },
  {
   "cell_type": "code",
   "execution_count": null,
   "metadata": {},
   "outputs": [],
   "source": [
    "tester_img = get_image_value('TestImages/Normal2.jpg')\n",
    "tester_img = np.reshape(tester_img, (1, 28,28,3))\n",
    "tester_img.shape\n",
    "def test_stacked(input_image): \n",
    "    normal_order = ['Normal', 'Non-Normal']\n",
    "    nonnormal_order = ['Viral', 'Bacterial', 'Fungal']\n",
    "    normal_predict = normal_model.predict(input_image).squeeze()\n",
    "    if normal_order[np.argmax(normal_predict)] == 'Non-Normal': \n",
    "        nonnormal_predict = nonnormal_model.predict(input_image)\n",
    "        return nonnormal_order[np.argmax(nonnormal_predict)]\n",
    "    else: \n",
    "        return 'Normal'\n",
    "\n",
    "tester_img = get_image_value('TestImages/Normal.jpg')\n",
    "tester_img = np.reshape(tester_img, (1, 28,28,3))\n",
    "test_stacked(tester_img)"
   ]
  },
  {
   "cell_type": "code",
   "execution_count": null,
   "metadata": {},
   "outputs": [],
   "source": []
  }
 ],
 "metadata": {
  "kernelspec": {
   "display_name": "Python 3",
   "language": "python",
   "name": "python3"
  },
  "language_info": {
   "codemirror_mode": {
    "name": "ipython",
    "version": 3
   },
   "file_extension": ".py",
   "mimetype": "text/x-python",
   "name": "python",
   "nbconvert_exporter": "python",
   "pygments_lexer": "ipython3",
   "version": "3.7.6"
  }
 },
 "nbformat": 4,
 "nbformat_minor": 4
}
