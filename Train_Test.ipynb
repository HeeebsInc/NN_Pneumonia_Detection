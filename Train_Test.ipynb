{
 "cells": [
  {
   "cell_type": "code",
   "execution_count": 1,
   "metadata": {},
   "outputs": [
    {
     "name": "stderr",
     "output_type": "stream",
     "text": [
      "Using TensorFlow backend.\n"
     ]
    }
   ],
   "source": [
    "from sklearn.preprocessing import LabelEncoder, OneHotEncoder\n",
    "from keras.preprocessing import image \n",
    "import numpy as np \n",
    "import pandas as pd \n",
    "import matplotlib.pyplot as plt\n",
    "from sklearn.model_selection import train_test_split\n",
    "import os\n",
    "from tensorflow.image import rgb_to_grayscale"
   ]
  },
  {
   "cell_type": "markdown",
   "metadata": {},
   "source": [
    "Visit [**GoogleDrive**](https://drive.google.com/file/d/1QM5NqLIFuYIwCjUwtl5jM24YVHs3L4Kb/view?usp=sharing) for csv file and images"
   ]
  },
  {
   "cell_type": "code",
   "execution_count": 2,
   "metadata": {
    "scrolled": true
   },
   "outputs": [
    {
     "name": "stderr",
     "output_type": "stream",
     "text": [
      "Gathering Image Arrays:   1%|▏         | 9/648 [00:00<00:07, 85.84it/s]"
     ]
    },
    {
     "name": "stdout",
     "output_type": "stream",
     "text": [
      "Normal        5257\n",
      "Non-Normal     572\n",
      "Name: VirusCategory1, dtype: int64\n"
     ]
    },
    {
     "name": "stderr",
     "output_type": "stream",
     "text": [
      "Gathering Image Arrays: 100%|██████████| 648/648 [00:08<00:00, 74.13it/s] \n",
      "Gathering Image Arrays: 100%|██████████| 5829/5829 [01:26<00:00, 67.49it/s]\n"
     ]
    }
   ],
   "source": [
    "def normal_nonnormal(x): \n",
    "    if x == 'Normal': \n",
    "        return x \n",
    "    else: \n",
    "        return 'Non-Normal'\n",
    "\n",
    "df = pd.read_csv('../CombinedImages/CombinedUpdated.csv')\n",
    "na_fill = {'VirusCategory1': 'Normal'}\n",
    "df = df.fillna(value = na_fill) #switch na to normal (dataset error)\n",
    "\n",
    "df.VirusCategory1 = df.VirusCategory1.map(normal_nonnormal)\n",
    "df = df.join(pd.get_dummies(df.VirusCategory1.values, prefix = 'type')) #one hot\n",
    "df = df[['ImagePath', 'VirusCategory1', 'type_Normal']] #only columns needed\n",
    "X = df[['ImagePath', 'VirusCategory1']]\n",
    "y = df[['type_Normal']]\n",
    "\n",
    "x_train, x_test, y_train, y_test = train_test_split(X,y, random_state = 10, stratify = X.VirusCategory1.values,\n",
    "                                                   train_size = .90)\n",
    "print(x_train.VirusCategory1.value_counts())\n",
    "x_train = x_train.drop('VirusCategory1', axis = 1) #only using this category to stratify \n",
    "x_test = x_test.drop('VirusCategory1', axis = 1)\n",
    "\n",
    "def get_image_value(path): \n",
    "    '''This function will retrive the RGB array for an image given its path'''\n",
    "    img = image.load_img(path, target_size = (28,28,3))\n",
    "    img = image.img_to_array(img)\n",
    "    \n",
    "    return img/255\n",
    "\n",
    "\n",
    "def get_data(df): \n",
    "    '''This function will retrive the paths for each item within a sample, and call get_image_value to retrieve\n",
    "    the RGB array for each image'''\n",
    "    from tqdm import tqdm\n",
    "    img_list = [] \n",
    "    for path in tqdm(df.ImagePath.values, desc = 'Gathering Image Arrays'):\n",
    "        path = f'../CombinedImages/all/{path}'\n",
    "        img_list.append(get_image_value(path)) \n",
    "    return np.array(img_list).squeeze()\n",
    "x_test = get_data(x_test)\n",
    "x_train = get_data(x_train)"
   ]
  },
  {
   "cell_type": "code",
   "execution_count": null,
   "metadata": {},
   "outputs": [],
   "source": []
  },
  {
   "cell_type": "code",
   "execution_count": 3,
   "metadata": {
    "scrolled": true
   },
   "outputs": [
    {
     "name": "stdout",
     "output_type": "stream",
     "text": [
      "Old Shape (5829, 28, 28, 3)\n",
      "New Shape (10514, 2352)\n"
     ]
    }
   ],
   "source": [
    "import pickle \n",
    "from imblearn.over_sampling import SMOTE\n",
    "\n",
    "\n",
    "smote = SMOTE() \n",
    "print('Old Shape', x_train.shape)\n",
    "x_train_resampled, y_train_resampled = smote.fit_sample(x_train.reshape(len(x_train), 28*28*3), y_train)\n",
    "print('New Shape', x_train_resampled.shape)\n",
    "\n",
    "#smote\n",
    "pickle.dump(x_train_resampled, open('pickles/SMOTE_x_train.p', 'wb'))\n",
    "pickle.dump(y_train_resampled, open('pickles/SMOTE_y_train.p', 'wb'))\n",
    "\n",
    "#normal \n",
    "pickle.dump(y_test, open('pickles/Normal_y_test.p', 'wb'))\n",
    "pickle.dump(x_test, open('pickles/Normal_x_test.p', 'wb'))\n",
    "pickle.dump(x_train, open('pickles/Normal_x_train.p', 'wb'))\n",
    "pickle.dump(y_train, open('pickles/Normal_y_train.p', 'wb'))\n"
   ]
  },
  {
   "cell_type": "code",
   "execution_count": null,
   "metadata": {},
   "outputs": [],
   "source": []
  }
 ],
 "metadata": {
  "kernelspec": {
   "display_name": "Python 3",
   "language": "python",
   "name": "python3"
  },
  "language_info": {
   "codemirror_mode": {
    "name": "ipython",
    "version": 3
   },
   "file_extension": ".py",
   "mimetype": "text/x-python",
   "name": "python",
   "nbconvert_exporter": "python",
   "pygments_lexer": "ipython3",
   "version": "3.7.4"
  }
 },
 "nbformat": 4,
 "nbformat_minor": 4
}
