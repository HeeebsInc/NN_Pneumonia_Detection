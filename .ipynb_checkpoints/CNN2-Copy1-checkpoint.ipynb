{
 "cells": [
  {
   "cell_type": "code",
   "execution_count": 1,
   "metadata": {},
   "outputs": [
    {
     "ename": "ModuleNotFoundError",
     "evalue": "No module named 'keras'",
     "output_type": "error",
     "traceback": [
      "\u001b[1;31m---------------------------------------------------------------------------\u001b[0m",
      "\u001b[1;31mModuleNotFoundError\u001b[0m                       Traceback (most recent call last)",
      "\u001b[1;32m<ipython-input-1-86ca2346635d>\u001b[0m in \u001b[0;36m<module>\u001b[1;34m\u001b[0m\n\u001b[0;32m      1\u001b[0m \u001b[1;32mfrom\u001b[0m \u001b[0msklearn\u001b[0m\u001b[1;33m.\u001b[0m\u001b[0mpreprocessing\u001b[0m \u001b[1;32mimport\u001b[0m \u001b[0mLabelEncoder\u001b[0m\u001b[1;33m,\u001b[0m \u001b[0mOneHotEncoder\u001b[0m\u001b[1;33m\u001b[0m\u001b[1;33m\u001b[0m\u001b[0m\n\u001b[1;32m----> 2\u001b[1;33m \u001b[1;32mfrom\u001b[0m \u001b[0mkeras\u001b[0m\u001b[1;33m.\u001b[0m\u001b[0mpreprocessing\u001b[0m \u001b[1;32mimport\u001b[0m \u001b[0mimage\u001b[0m\u001b[1;33m\u001b[0m\u001b[1;33m\u001b[0m\u001b[0m\n\u001b[0m\u001b[0;32m      3\u001b[0m \u001b[1;32mimport\u001b[0m \u001b[0mnumpy\u001b[0m \u001b[1;32mas\u001b[0m \u001b[0mnp\u001b[0m\u001b[1;33m\u001b[0m\u001b[1;33m\u001b[0m\u001b[0m\n\u001b[0;32m      4\u001b[0m \u001b[1;32mimport\u001b[0m \u001b[0mpandas\u001b[0m \u001b[1;32mas\u001b[0m \u001b[0mpd\u001b[0m\u001b[1;33m\u001b[0m\u001b[1;33m\u001b[0m\u001b[0m\n\u001b[0;32m      5\u001b[0m \u001b[1;32mimport\u001b[0m \u001b[0mmatplotlib\u001b[0m\u001b[1;33m.\u001b[0m\u001b[0mpyplot\u001b[0m \u001b[1;32mas\u001b[0m \u001b[0mplt\u001b[0m\u001b[1;33m\u001b[0m\u001b[1;33m\u001b[0m\u001b[0m\n",
      "\u001b[1;31mModuleNotFoundError\u001b[0m: No module named 'keras'"
     ]
    }
   ],
   "source": [
    "from sklearn.preprocessing import LabelEncoder, OneHotEncoder\n",
    "from keras.preprocessing import image \n",
    "import numpy as np \n",
    "import pandas as pd \n",
    "import matplotlib.pyplot as plt\n",
    "from sklearn.model_selection import train_test_split\n",
    "from tqdm import tqdm\n",
    "import os"
   ]
  },
  {
   "cell_type": "markdown",
   "metadata": {},
   "source": [
    "## NN for Normal vs NonNormal"
   ]
  },
  {
   "cell_type": "code",
   "execution_count": null,
   "metadata": {},
   "outputs": [],
   "source": [
    "def normal_nonnormal(x): \n",
    "    if x == 'Normal': \n",
    "        return x \n",
    "    else: \n",
    "        return 'Non-Normal'\n",
    "\n",
    "df = pd.read_csv('../CombinedImages/CombinedUpdated.csv')\n",
    "na_fill = {'VirusCategory1': 'Normal'}\n",
    "df = df.fillna(value = na_fill)\n",
    "\n",
    "df.VirusCategory1 = df.VirusCategory1.map(normal_nonnormal)\n",
    "df = df.join(pd.get_dummies(df.VirusCategory1.values, prefix = 'type'))\n",
    "columns_include = ['Normal', 'Non-Normal']\n",
    "df = df[['ImagePath', 'VirusCategory1'] + [f'type_{i}' for i in columns_include]]\n"
   ]
  },
  {
   "cell_type": "code",
   "execution_count": null,
   "metadata": {},
   "outputs": [],
   "source": [
    "X = df[['ImagePath', 'VirusCategory1']]\n",
    "y = df[[f'type_{i}' for i in columns_include]]\n",
    "\n",
    "x_train, x_test, y_train, y_test = train_test_split(X,y, random_state = 10, stratify = X.VirusCategory1.values,\n",
    "                                                   train_size = .8)\n",
    "\n",
    "x_train = x_train.drop('VirusCategory1', axis = 1)\n",
    "x_test = x_test.drop('VirusCategory1', axis = 1)"
   ]
  },
  {
   "cell_type": "code",
   "execution_count": null,
   "metadata": {},
   "outputs": [],
   "source": [
    "def get_image_value(path): \n",
    "    img = image.load_img(path, target_size = (28,28,1))\n",
    "    img = image.img_to_array(img)/255\n",
    "    return img \n",
    "\n",
    "\n",
    "def get_data(df): \n",
    "    img_list = [] \n",
    "    for path in tqdm(df.ImagePath.values):\n",
    "        path = f'../CombinedImages/all/{path}'\n",
    "        img_list.append(get_image_value(path)) \n",
    "    return np.array(img_list).squeeze()\n",
    "\n",
    "x_test = get_data(x_test)\n",
    "x_train = get_data(x_train)\n"
   ]
  },
  {
   "cell_type": "code",
   "execution_count": null,
   "metadata": {},
   "outputs": [],
   "source": [
    "from keras.models import Sequential\n",
    "from keras.layers import Dense, Dropout, Flatten \n",
    "from keras.layers import Conv2D, MaxPooling2D "
   ]
  },
  {
   "cell_type": "code",
   "execution_count": null,
   "metadata": {},
   "outputs": [],
   "source": [
    "def get_conv_model_normal(x, y): \n",
    "    drop = .2 \n",
    "    \n",
    "    model = Sequential() \n",
    "    \n",
    "    model.add(Conv2D(32, kernel_size=(3, 3),activation='relu', input_shape = (28,28,3)))\n",
    "    \n",
    "    model.add(Conv2D(64, (3, 3), activation='relu'))\n",
    "    model.add(MaxPooling2D(pool_size=(2, 2)))\n",
    "    model.add(Dropout(drop))\n",
    "    \n",
    "    model.add(Flatten())\n",
    "    \n",
    "    model.add(Dense(128, activation='relu'))\n",
    "    model.add(Dropout(drop))\n",
    "    \n",
    "    model.add(Dense(2, activation='softmax'))\n",
    "    \n",
    "    model.compile(loss = 'categorical_crossentropy', optimizer = 'adam', metrics = ['accuracy'])\n",
    "    return model "
   ]
  },
  {
   "cell_type": "code",
   "execution_count": null,
   "metadata": {},
   "outputs": [],
   "source": [
    "from tensorflow.keras.callbacks import ModelCheckpoint, EarlyStopping\n",
    "\n",
    "# y_train = y_train.values\n",
    "# y_test = y_test.values\n",
    "early_stopping = EarlyStopping(monitor='val_loss', patience=5, verbose=1)\n",
    "model_checkpoint = ModelCheckpoint('models/NormalModelCheckpointWeights.h5', verbose=1, save_best_only=True)\n",
    "\n",
    "epochs = 5\n",
    "batch_size = 16\n",
    "normal_model = get_conv_model_normal(x_train, y_train)\n",
    "normal_history = normal_model.fit(x_train, y_train, epochs = epochs, batch_size = batch_size, verbose = 1, \n",
    "         callbacks = [early_stopping, model_checkpoint], validation_data = (x_test, y_test))"
   ]
  },
  {
   "cell_type": "code",
   "execution_count": null,
   "metadata": {},
   "outputs": [],
   "source": [
    "# assert False"
   ]
  },
  {
   "cell_type": "markdown",
   "metadata": {},
   "source": [
    "### Classes of NonNormal"
   ]
  },
  {
   "cell_type": "code",
   "execution_count": null,
   "metadata": {},
   "outputs": [],
   "source": [
    "df = pd.read_csv('../CombinedImages/CombinedUpdated.csv')\n",
    "na_fill = {'VirusCategory1': 'Normal'}\n",
    "df = df.fillna(value = na_fill)\n",
    "df = df.replace('E.Coli', 'Bacterial')\n",
    "df = df.replace('COVID-19, ARDS', 'Viral')\n",
    "df = df.replace('COVID-19', 'Viral')\n",
    "df = df.replace('Mycoplasma Bacterial Pneumonia', 'Bacterial')\n",
    "df = df.replace('Klebsiella', 'Bacterial')\n",
    "df = df.replace('Legionella', 'Bacterial')\n",
    "df = df.replace('Chlamydophila', 'Bacterial')\n",
    "df = df.replace('Pneumocystis', 'Fungal')\n",
    "df = df.replace('Streptococcus', 'Bacterial')\n",
    "df = df.replace('Influenza', 'Viral')\n",
    "df = df.replace('ARDS', 'Viral')\n",
    "df = df.replace('SARS', 'Viral')\n",
    "df = df.replace('Influenza', 'Viral')\n",
    "df = df.replace('Varicella', 'Viral')\n",
    "\n",
    "\n",
    "df.VirusCategory1.unique()\n",
    "# df.VirusCategory1 = df.VirusCategory1.str.strip()\n",
    "pneu_types = ['Viral', 'Bacterial', 'Fungal']\n",
    "df = df.join(pd.get_dummies(df.VirusCategory1.values, prefix = 'type'))\n",
    "\n",
    "df = df[['ImagePath', 'VirusCategory1']+[f'type_{i}' for i in pneu_types]]\n",
    "df = df[df.VirusCategory1.isin(pneu_types)]\n",
    "df.head(3)"
   ]
  },
  {
   "cell_type": "code",
   "execution_count": null,
   "metadata": {},
   "outputs": [],
   "source": [
    "df.VirusCategory1.value_counts()"
   ]
  },
  {
   "cell_type": "code",
   "execution_count": null,
   "metadata": {},
   "outputs": [],
   "source": [
    "random_state = 10\n",
    "X = df[['ImagePath', 'VirusCategory1']]\n",
    "y = df[[f'type_{i}' for i in pneu_types]]\n",
    "x_train, x_test, y_train, y_test = train_test_split(X,y, train_size = .84, stratify = X.VirusCategory1.values)\n",
    "x_train = x_train.drop('VirusCategory1', axis = 1)\n",
    "x_test = x_test.drop('VirusCategory1', axis = 1)\n",
    "x_test.shape\n"
   ]
  },
  {
   "cell_type": "code",
   "execution_count": null,
   "metadata": {},
   "outputs": [],
   "source": [
    "x_test = get_data(x_test)\n",
    "x_train = get_data(x_train)"
   ]
  },
  {
   "cell_type": "code",
   "execution_count": null,
   "metadata": {},
   "outputs": [],
   "source": [
    "def get_conv_model_nonnormal(x, y): \n",
    "    drop = .2 \n",
    "    \n",
    "    model = Sequential() \n",
    "    \n",
    "    model.add(Conv2D(32, kernel_size=(3, 3),activation='relu', input_shape = (28,28,3)))\n",
    "    \n",
    "    model.add(Conv2D(64, (3, 3), activation='relu'))\n",
    "    model.add(MaxPooling2D(pool_size=(2, 2)))\n",
    "    model.add(Dropout(drop))\n",
    "    \n",
    "    model.add(Flatten())\n",
    "    \n",
    "    model.add(Dense(128, activation='relu'))\n",
    "    model.add(Dropout(drop))\n",
    "    \n",
    "    model.add(Dense(3, activation='softmax'))\n",
    "    \n",
    "    model.compile(loss = 'categorical_crossentropy', optimizer = 'adam', metrics = ['accuracy'])\n",
    "    return model "
   ]
  },
  {
   "cell_type": "code",
   "execution_count": null,
   "metadata": {
    "scrolled": true
   },
   "outputs": [],
   "source": [
    "\n",
    "# y_train = y_train.values\n",
    "# y_test = y_test.values\n",
    "early_stopping = EarlyStopping(monitor='val_loss', patience=5, verbose=1)\n",
    "model_checkpoint = ModelCheckpoint('models/Non-NormalModelCheckpointWeights.h5', verbose=1, save_best_only=True)\n",
    "\n",
    "epochs = 10\n",
    "batch_size = 8\n",
    "nonnormal_model = get_conv_model_nonnormal(x_train, y_train)\n",
    "nonnormal_history = nonnormal_model.fit(x_train, y_train, epochs = epochs, batch_size = batch_size, verbose = 1, \n",
    "         callbacks = [early_stopping, model_checkpoint], validation_data = (x_test, y_test))"
   ]
  },
  {
   "cell_type": "code",
   "execution_count": null,
   "metadata": {},
   "outputs": [],
   "source": [
    "assert False"
   ]
  },
  {
   "cell_type": "markdown",
   "metadata": {},
   "source": [
    "### Test on Random Images"
   ]
  },
  {
   "cell_type": "markdown",
   "metadata": {},
   "source": [
    "['Normal', 'COVID-19', 'Bacterial', 'Fungal', 'SARS']\n",
    "['Normal', 'COVID-19', 'Bacterial']"
   ]
  },
  {
   "cell_type": "code",
   "execution_count": null,
   "metadata": {},
   "outputs": [],
   "source": [
    "tester_img = get_image_value('TestImages/Normal.jpg')\n",
    "tester_img = np.reshape(tester_img, (1, 28,28,3))\n",
    "tester_img.shape"
   ]
  },
  {
   "cell_type": "code",
   "execution_count": null,
   "metadata": {},
   "outputs": [],
   "source": [
    "def test_stacked(input_image): \n",
    "    normal_order = ['Normal', 'Non-Normal']\n",
    "    nonnormal_order = ['Viral', 'Bacterial', 'Fungal']\n",
    "    normal_predict = normal_model.predict(input_image).squeeze()\n",
    "    if normal_order[np.argmax(normal_predict)] == 'Non-Normal': \n",
    "        nonnormal_predict = nonnormal_model.predict(input_image)\n",
    "        return nonnormal_order[np.argmax(nonnormal_predict)]\n",
    "    else: \n",
    "        return 'Normal'\n",
    "\n",
    "tester_img = get_image_value('TestImages/Normal.jpg')\n",
    "tester_img = np.reshape(tester_img, (1, 28,28,3))\n",
    "test_stacked(tester_img)"
   ]
  },
  {
   "cell_type": "code",
   "execution_count": null,
   "metadata": {},
   "outputs": [],
   "source": []
  }
 ],
 "metadata": {
  "kernelspec": {
   "display_name": "Python 3",
   "language": "python",
   "name": "python3"
  },
  "language_info": {
   "codemirror_mode": {
    "name": "ipython",
    "version": 3
   },
   "file_extension": ".py",
   "mimetype": "text/x-python",
   "name": "python",
   "nbconvert_exporter": "python",
   "pygments_lexer": "ipython3",
   "version": "3.7.4"
  }
 },
 "nbformat": 4,
 "nbformat_minor": 4
}
