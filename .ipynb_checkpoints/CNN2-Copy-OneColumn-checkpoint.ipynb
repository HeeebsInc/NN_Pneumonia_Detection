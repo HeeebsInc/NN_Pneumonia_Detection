{
 "cells": [
  {
   "cell_type": "code",
   "execution_count": 1,
   "metadata": {
    "scrolled": true
   },
   "outputs": [
    {
     "name": "stderr",
     "output_type": "stream",
     "text": [
      "Using TensorFlow backend.\n"
     ]
    }
   ],
   "source": [
    "from sklearn.preprocessing import LabelEncoder, OneHotEncoder\n",
    "from keras.preprocessing import image \n",
    "import numpy as np \n",
    "import pandas as pd \n",
    "import matplotlib.pyplot as plt\n",
    "from sklearn.model_selection import train_test_split\n",
    "import os\n",
    "from tensorflow.image import rgb_to_grayscale"
   ]
  },
  {
   "cell_type": "code",
   "execution_count": null,
   "metadata": {},
   "outputs": [],
   "source": []
  },
  {
   "cell_type": "markdown",
   "metadata": {},
   "source": [
    "## NN for Normal vs NonNormal"
   ]
  },
  {
   "cell_type": "code",
   "execution_count": 2,
   "metadata": {},
   "outputs": [],
   "source": [
    "def normal_nonnormal(x): \n",
    "    if x == 'Normal': \n",
    "        return x \n",
    "    else: \n",
    "        return 'Non-Normal'\n",
    "\n",
    "df = pd.read_csv('../CombinedImages/CombinedUpdated.csv')\n",
    "na_fill = {'VirusCategory1': 'Normal'}\n",
    "df = df.fillna(value = na_fill)\n",
    "\n",
    "df.VirusCategory1 = df.VirusCategory1.map(normal_nonnormal)\n",
    "df = df.join(pd.get_dummies(df.VirusCategory1.values, prefix = 'type'))\n",
    "columns_include = ['Normal']\n",
    "df = df[['ImagePath', 'VirusCategory1'] + [f'type_{i}' for i in columns_include]]\n"
   ]
  },
  {
   "cell_type": "code",
   "execution_count": 3,
   "metadata": {},
   "outputs": [
    {
     "data": {
      "text/html": [
       "<div>\n",
       "<style scoped>\n",
       "    .dataframe tbody tr th:only-of-type {\n",
       "        vertical-align: middle;\n",
       "    }\n",
       "\n",
       "    .dataframe tbody tr th {\n",
       "        vertical-align: top;\n",
       "    }\n",
       "\n",
       "    .dataframe thead th {\n",
       "        text-align: right;\n",
       "    }\n",
       "</style>\n",
       "<table border=\"1\" class=\"dataframe\">\n",
       "  <thead>\n",
       "    <tr style=\"text-align: right;\">\n",
       "      <th></th>\n",
       "      <th>ImagePath</th>\n",
       "      <th>VirusCategory1</th>\n",
       "      <th>type_Normal</th>\n",
       "    </tr>\n",
       "  </thead>\n",
       "  <tbody>\n",
       "    <tr>\n",
       "      <th>0</th>\n",
       "      <td>IM-0128-0001.jpeg</td>\n",
       "      <td>Normal</td>\n",
       "      <td>1</td>\n",
       "    </tr>\n",
       "    <tr>\n",
       "      <th>1</th>\n",
       "      <td>IM-0127-0001.jpeg</td>\n",
       "      <td>Normal</td>\n",
       "      <td>1</td>\n",
       "    </tr>\n",
       "    <tr>\n",
       "      <th>2</th>\n",
       "      <td>IM-0125-0001.jpeg</td>\n",
       "      <td>Normal</td>\n",
       "      <td>1</td>\n",
       "    </tr>\n",
       "    <tr>\n",
       "      <th>3</th>\n",
       "      <td>IM-0122-0001.jpeg</td>\n",
       "      <td>Normal</td>\n",
       "      <td>1</td>\n",
       "    </tr>\n",
       "    <tr>\n",
       "      <th>4</th>\n",
       "      <td>IM-0119-0001.jpeg</td>\n",
       "      <td>Normal</td>\n",
       "      <td>1</td>\n",
       "    </tr>\n",
       "    <tr>\n",
       "      <th>...</th>\n",
       "      <td>...</td>\n",
       "      <td>...</td>\n",
       "      <td>...</td>\n",
       "    </tr>\n",
       "    <tr>\n",
       "      <th>6472</th>\n",
       "      <td>covid-19-caso-95-2-16.png</td>\n",
       "      <td>Non-Normal</td>\n",
       "      <td>0</td>\n",
       "    </tr>\n",
       "    <tr>\n",
       "      <th>6473</th>\n",
       "      <td>covid-19-caso-95-3-14.png</td>\n",
       "      <td>Non-Normal</td>\n",
       "      <td>0</td>\n",
       "    </tr>\n",
       "    <tr>\n",
       "      <th>6474</th>\n",
       "      <td>covid-19-caso-95-4-12.png</td>\n",
       "      <td>Non-Normal</td>\n",
       "      <td>0</td>\n",
       "    </tr>\n",
       "    <tr>\n",
       "      <th>6475</th>\n",
       "      <td>covid-19-caso-99-1-19.png</td>\n",
       "      <td>Non-Normal</td>\n",
       "      <td>0</td>\n",
       "    </tr>\n",
       "    <tr>\n",
       "      <th>6476</th>\n",
       "      <td>covid-19-caso-111-1-21.png</td>\n",
       "      <td>Non-Normal</td>\n",
       "      <td>0</td>\n",
       "    </tr>\n",
       "  </tbody>\n",
       "</table>\n",
       "<p>6477 rows × 3 columns</p>\n",
       "</div>"
      ],
      "text/plain": [
       "                       ImagePath VirusCategory1  type_Normal\n",
       "0              IM-0128-0001.jpeg         Normal            1\n",
       "1              IM-0127-0001.jpeg         Normal            1\n",
       "2              IM-0125-0001.jpeg         Normal            1\n",
       "3              IM-0122-0001.jpeg         Normal            1\n",
       "4              IM-0119-0001.jpeg         Normal            1\n",
       "...                          ...            ...          ...\n",
       "6472   covid-19-caso-95-2-16.png     Non-Normal            0\n",
       "6473   covid-19-caso-95-3-14.png     Non-Normal            0\n",
       "6474   covid-19-caso-95-4-12.png     Non-Normal            0\n",
       "6475   covid-19-caso-99-1-19.png     Non-Normal            0\n",
       "6476  covid-19-caso-111-1-21.png     Non-Normal            0\n",
       "\n",
       "[6477 rows x 3 columns]"
      ]
     },
     "execution_count": 3,
     "metadata": {},
     "output_type": "execute_result"
    }
   ],
   "source": [
    "df"
   ]
  },
  {
   "cell_type": "code",
   "execution_count": 4,
   "metadata": {},
   "outputs": [],
   "source": [
    "X = df[['ImagePath', 'VirusCategory1']]\n",
    "y = df[[f'type_{i}' for i in columns_include]]\n",
    "\n",
    "x_train, x_test, y_train, y_test = train_test_split(X,y, random_state = 10, stratify = X.VirusCategory1.values,\n",
    "                                                   train_size = .95)\n",
    "\n",
    "x_train = x_train.drop('VirusCategory1', axis = 1)\n",
    "x_test = x_test.drop('VirusCategory1', axis = 1)"
   ]
  },
  {
   "cell_type": "code",
   "execution_count": null,
   "metadata": {},
   "outputs": [],
   "source": []
  },
  {
   "cell_type": "code",
   "execution_count": 5,
   "metadata": {},
   "outputs": [],
   "source": [
    "#print(len(df[df['type_Normal']==1]), len(df[df['type_Normal']==0]))"
   ]
  },
  {
   "cell_type": "code",
   "execution_count": 6,
   "metadata": {},
   "outputs": [
    {
     "name": "stderr",
     "output_type": "stream",
     "text": [
      "100%|██████████| 324/324 [00:04<00:00, 74.57it/s]\n",
      "100%|██████████| 6153/6153 [01:30<00:00, 68.27it/s]\n"
     ]
    }
   ],
   "source": [
    "def get_image_value(path, img_type): \n",
    "    img = image.load_img(path, target_size = (28,28,3))\n",
    "    img = image.img_to_array(img)\n",
    "    if img_type == 'grey':\n",
    "        img = np.dot(img[...,:3], [.2989,.5870,.1140])\n",
    "    return img/255\n",
    "\n",
    "\n",
    "def get_data(df, img_type): \n",
    "    from tqdm import tqdm\n",
    "    img_list = [] \n",
    "    for path in tqdm(df.ImagePath.values):\n",
    "        path = f'../CombinedImages/all/{path}'\n",
    "        img_list.append(get_image_value(path, img_type)) \n",
    "    return np.array(img_list).squeeze()\n",
    "img_type = 'normal'\n",
    "x_test = get_data(x_test, img_type)\n",
    "x_train = get_data(x_train, img_type)\n"
   ]
  },
  {
   "cell_type": "code",
   "execution_count": null,
   "metadata": {},
   "outputs": [],
   "source": [
    "#plt.imshow(x_test[0], cmap = plt.get_cmap('gray'))"
   ]
  },
  {
   "cell_type": "code",
   "execution_count": null,
   "metadata": {},
   "outputs": [],
   "source": [
    "import pickle \n",
    "# pickle.dump(x_train, open('picklesNorm/x_train_normal.p', 'wb'), protocol = 2)\n",
    "# pickle.dump(x_test, open('picklesNorm/x_test_normal.p', 'wb'))\n",
    "\n",
    "# pickle.dump(x_train, open('picklesNorm/x_train_grey.p', 'wb'))\n",
    "# pickle.dump(x_test, open('picklesNorm/x_test_grey.p', 'wb'))\n",
    "\n",
    "# pickle.dump(y_train, open('picklesNorm/y_train.p', 'wb'))\n",
    "# pickle.dump(y_test, open('picklesNorm/y_test.p', 'wb'))"
   ]
  },
  {
   "cell_type": "code",
   "execution_count": null,
   "metadata": {},
   "outputs": [],
   "source": [
    "assert False"
   ]
  },
  {
   "cell_type": "code",
   "execution_count": 7,
   "metadata": {},
   "outputs": [],
   "source": [
    "def get_image_value(path, img_type): \n",
    "    img = image.load_img(path, target_size = (28,28,3))\n",
    "    img = image.img_to_array(img)\n",
    "    if img_type == 'grey':\n",
    "        img = np.dot(img[...,:3], [.2989,.5870,.1140])\n",
    "    return img/255\n",
    "\n",
    "img_type = 'normal'\n"
   ]
  },
  {
   "cell_type": "code",
   "execution_count": null,
   "metadata": {},
   "outputs": [],
   "source": []
  },
  {
   "cell_type": "code",
   "execution_count": 8,
   "metadata": {},
   "outputs": [],
   "source": [
    "from keras.models import Sequential\n",
    "from keras.layers import Dense, Dropout, Flatten \n",
    "from keras.layers import Conv2D, MaxPooling2D \n",
    "from keras import regularizers\n",
    "from sklearn.preprocessing import LabelEncoder, OneHotEncoder\n",
    "from keras.preprocessing import image \n",
    "import numpy as np \n",
    "import pandas as pd \n",
    "import matplotlib.pyplot as plt\n",
    "from sklearn.model_selection import train_test_split\n",
    "import os\n",
    "from tensorflow.image import rgb_to_grayscale\n",
    "import pickle\n",
    "from sklearn.metrics import confusion_matrix, accuracy_score, recall_score, precision_score, f1_score\n",
    "from tensorflow.keras.optimizers import Adam\n",
    "import tensorflow as tf"
   ]
  },
  {
   "cell_type": "code",
   "execution_count": 9,
   "metadata": {},
   "outputs": [],
   "source": [
    "def get_conv_model_normal(img_type):\n",
    "    if img_type == 'normal': \n",
    "        inp_shape = (28,28,3)\n",
    "    else: \n",
    "        inp_shape = (28,28, 1)\n",
    "    act = 'sigmoid'\n",
    "    drop = .25 \n",
    "    kernal_reg = regularizers.l2(.001)\n",
    "    dil_rate = 2\n",
    "    adam = Adam(.001)\n",
    "    \n",
    "    model = Sequential() \n",
    "    \n",
    "    model.add(Conv2D(128, kernel_size=(3,3),activation=act, input_shape = inp_shape, \n",
    "                     kernel_regularizer = kernal_reg, kernel_initializer = 'he_uniform', padding = 'same'))\n",
    "    model.add(MaxPooling2D(pool_size=(2, 2)))\n",
    "    \n",
    "    model.add(Conv2D(128, (3, 3), activation=act, kernel_regularizer = kernal_reg, dilation_rate = dil_rate, \n",
    "                     kernel_initializer = 'he_uniform', padding = 'same'))\n",
    "    model.add(MaxPooling2D(pool_size=(2, 2)))\n",
    "   \n",
    "    model.add(Flatten())\n",
    "    model.add(Dropout(drop))\n",
    "\n",
    "    model.add(Dense(512, activation='relu'))\n",
    "    model.add(Dropout(drop))\n",
    "\n",
    "    model.add(Dense(1, activation='sigmoid'))\n",
    "    \n",
    "    model.compile(loss = 'binary_crossentropy', optimizer = 'adam', metrics = ['accuracy'])\n",
    "    return model \n",
    "# def get_conv_model_normal(img_type):\n",
    "#     if img_type == 'normal': \n",
    "#         inp_shape = (28,28,3)\n",
    "#     else: \n",
    "#         inp_shape = (28,28, 1)\n",
    "#     drop = .25 \n",
    "#     kernal_reg = regularizers.l2(.001)\n",
    "#     dil_rate = 2\n",
    "#     model = Sequential() \n",
    "    \n",
    "#     model.add(Conv2D(128, kernel_size=(3,3),activation='sigmoid', input_shape = inp_shape, \n",
    "#                      kernel_regularizer = kernal_reg, kernel_initializer = 'he_uniform', padding = 'same'))\n",
    "#     model.add(MaxPooling2D(pool_size=(2, 2)))\n",
    "\n",
    "\n",
    "#     model.add(Conv2D(128, (1, 1), activation='sigmoid', kernel_regularizer = kernal_reg, dilation_rate = dil_rate, \n",
    "#                      kernel_initializer = 'he_uniform', padding = 'same'))\n",
    "#     model.add(MaxPooling2D(pool_size=(2, 2)))\n",
    "    \n",
    "# #     model.add(Conv2D(128, (1, 1), activation='relu', kernel_regularizer = kernal_reg, dilation_rate = dil_rate))\n",
    "# #     model.add(MaxPooling2D(pool_size=(2, 2)))\n",
    "    \n",
    "#     model.add(Flatten())\n",
    "#     model.add(Dropout(drop))\n",
    "    \n",
    "#     model.add(Dense(512, activation='relu'))\n",
    "#     model.add(Dropout(drop))\n",
    "\n",
    "#     model.add(Dense(2, activation='sigmoid'))\n",
    "    \n",
    "#     model.compile(loss = 'binary_crossentropy', optimizer = 'adam', metrics = ['accuracy'])\n",
    "#     return model "
   ]
  },
  {
   "cell_type": "code",
   "execution_count": 10,
   "metadata": {},
   "outputs": [
    {
     "name": "stdout",
     "output_type": "stream",
     "text": [
      "Epoch 1/10\n",
      "193/193 [==============================] - ETA: 0s - loss: 0.7696 - accuracy: 0.8981\n",
      "Epoch 00001: val_loss improved from inf to 0.47057, saving model to models/Tester-NormalModelCheckpointWeights.h5\n",
      "193/193 [==============================] - 23s 119ms/step - loss: 0.7696 - accuracy: 0.8981 - val_loss: 0.4706 - val_accuracy: 0.9012\n",
      "Epoch 2/10\n",
      "193/193 [==============================] - ETA: 0s - loss: 0.3344 - accuracy: 0.9545\n",
      "Epoch 00002: val_loss improved from 0.47057 to 0.23124, saving model to models/Tester-NormalModelCheckpointWeights.h5\n",
      "193/193 [==============================] - 22s 116ms/step - loss: 0.3344 - accuracy: 0.9545 - val_loss: 0.2312 - val_accuracy: 0.9753\n",
      "Epoch 3/10\n",
      "192/193 [============================>.] - ETA: 0s - loss: 0.2210 - accuracy: 0.9587\n",
      "Epoch 00003: val_loss improved from 0.23124 to 0.16246, saving model to models/Tester-NormalModelCheckpointWeights.h5\n",
      "193/193 [==============================] - 22s 115ms/step - loss: 0.2209 - accuracy: 0.9587 - val_loss: 0.1625 - val_accuracy: 0.9753\n",
      "Epoch 4/10\n",
      "192/193 [============================>.] - ETA: 0s - loss: 0.1749 - accuracy: 0.9613\n",
      "Epoch 00004: val_loss improved from 0.16246 to 0.14073, saving model to models/Tester-NormalModelCheckpointWeights.h5\n",
      "193/193 [==============================] - 22s 115ms/step - loss: 0.1747 - accuracy: 0.9613 - val_loss: 0.1407 - val_accuracy: 0.9722\n",
      "Epoch 5/10\n",
      "193/193 [==============================] - ETA: 0s - loss: 0.1527 - accuracy: 0.9639\n",
      "Epoch 00005: val_loss improved from 0.14073 to 0.12603, saving model to models/Tester-NormalModelCheckpointWeights.h5\n",
      "193/193 [==============================] - 23s 121ms/step - loss: 0.1527 - accuracy: 0.9639 - val_loss: 0.1260 - val_accuracy: 0.9784\n",
      "Epoch 6/10\n",
      "192/193 [============================>.] - ETA: 0s - loss: 0.1467 - accuracy: 0.9660\n",
      "Epoch 00006: val_loss did not improve from 0.12603\n",
      "193/193 [==============================] - 23s 119ms/step - loss: 0.1466 - accuracy: 0.9660 - val_loss: 0.1335 - val_accuracy: 0.9691\n",
      "Epoch 7/10\n",
      "193/193 [==============================] - ETA: 0s - loss: 0.1347 - accuracy: 0.9668\n",
      "Epoch 00007: val_loss did not improve from 0.12603\n",
      "193/193 [==============================] - 22s 115ms/step - loss: 0.1347 - accuracy: 0.9668 - val_loss: 0.1325 - val_accuracy: 0.9691\n",
      "Epoch 8/10\n",
      "192/193 [============================>.] - ETA: 0s - loss: 0.1368 - accuracy: 0.9657\n",
      "Epoch 00008: val_loss improved from 0.12603 to 0.12003, saving model to models/Tester-NormalModelCheckpointWeights.h5\n",
      "193/193 [==============================] - 22s 115ms/step - loss: 0.1367 - accuracy: 0.9657 - val_loss: 0.1200 - val_accuracy: 0.9784\n",
      "Epoch 9/10\n",
      "192/193 [============================>.] - ETA: 0s - loss: 0.1365 - accuracy: 0.9658\n",
      "Epoch 00009: val_loss did not improve from 0.12003\n",
      "193/193 [==============================] - 22s 114ms/step - loss: 0.1364 - accuracy: 0.9659 - val_loss: 0.1303 - val_accuracy: 0.9722\n",
      "Epoch 10/10\n",
      "193/193 [==============================] - ETA: 0s - loss: 0.1326 - accuracy: 0.9665\n",
      "Epoch 00010: val_loss improved from 0.12003 to 0.11436, saving model to models/Tester-NormalModelCheckpointWeights.h5\n",
      "193/193 [==============================] - 22s 115ms/step - loss: 0.1326 - accuracy: 0.9665 - val_loss: 0.1144 - val_accuracy: 0.9722\n"
     ]
    }
   ],
   "source": [
    "from tensorflow.keras.callbacks import ModelCheckpoint, EarlyStopping\n",
    "\n",
    "\n",
    "# def get_samples_norm(img_type): \n",
    "#     x_train = pickle.load(open(f'picklesNorm/x_train_{img_type}.p', 'rb'))\n",
    "#     x_test = pickle.load(open(f'picklesNorm/x_test_{img_type}.p', 'rb'))\n",
    "#     y_train = pickle.load(open(f'picklesNorm/y_train.p', 'rb'))\n",
    "#     y_test = pickle.load(open(f'picklesNorm/y_test.p', 'rb'))\n",
    "#     return x_train, x_test, y_train, y_test\n",
    "# x_train, x_test, y_train, y_test = get_samples_norm(img_type)\n",
    "# print(x_train.shape)\n",
    "\n",
    "\n",
    "if img_type == 'grey': \n",
    "    x_train = x_train.reshape(len(x_train), 28, 28, 1)\n",
    "    x_test = x_test.reshape(len(x_test), 28, 28, 1)\n",
    "early_stopping = EarlyStopping(monitor='val_loss', verbose = 1, patience=5)\n",
    "model_checkpoint = ModelCheckpoint('models/Tester-NormalModelCheckpointWeights.h5', verbose = 1, save_best_only=True)\n",
    "\n",
    "epochs = 10\n",
    "batch_size = 32\n",
    "normal_model = get_conv_model_normal(img_type)\n",
    "normal_history = normal_model.fit(x_train, y_train, epochs = epochs, batch_size = batch_size, \n",
    "         callbacks = [early_stopping, model_checkpoint], validation_data = (x_test, y_test), verbose= 1)"
   ]
  },
  {
   "cell_type": "code",
   "execution_count": 11,
   "metadata": {},
   "outputs": [
    {
     "data": {
      "text/plain": [
       "<matplotlib.legend.Legend at 0x7fa3c7d76dd0>"
      ]
     },
     "execution_count": 11,
     "metadata": {},
     "output_type": "execute_result"
    },
    {
     "data": {
      "image/png": "[encoded data removed]",
      "text/plain": [
       "<Figure size 1080x360 with 2 Axes>"
      ]
     },
     "metadata": {
      "needs_background": "light"
     },
     "output_type": "display_data"
    }
   ],
   "source": [
    "train_loss = normal_history.history['loss']\n",
    "train_acc = normal_history.history['accuracy']\n",
    "test_loss = normal_history.history['val_loss']\n",
    "test_acc = normal_history.history['val_accuracy']\n",
    "epochs = [i for i in range(1, len(test_acc)+1)]\n",
    "\n",
    "fig, ax = plt.subplots(1,2, figsize = (15,5))\n",
    "ax[0].plot(epochs, train_loss, label = 'Train Loss')\n",
    "ax[0].plot(epochs, test_loss, label = 'Test Loss')\n",
    "ax[0].set_title('Train/Test Loss')\n",
    "ax[0].legend()\n",
    "\n",
    "ax[1].plot(epochs, train_acc, label = 'Train Accuracy')\n",
    "ax[1].plot(epochs, test_acc, label = 'Test Accuracy')\n",
    "ax[1].set_title('Train/Test Accuracy')\n",
    "ax[1].legend()"
   ]
  },
  {
   "cell_type": "code",
   "execution_count": 42,
   "metadata": {},
   "outputs": [
    {
     "name": "stdout",
     "output_type": "stream",
     "text": [
      "0.021260649\n",
      "Non-Normal\n"
     ]
    }
   ],
   "source": [
    "normal_model = get_conv_model_normal(img_type)\n",
    "normal_model.load_weights('models/Tester-NormalModelCheckpointWeights.h5')\n",
    "tester_img = get_image_value('TestImages/Normal6.jpg', img_type)\n",
    "if img_type == 'grey': \n",
    "    tester_img = np.reshape(tester_img, (1,28,28,1))\n",
    "else:\n",
    "    tester_img = np.reshape(tester_img, (1,28,28,3))\n",
    "normal_predict = normal_model.predict(tester_img).squeeze()\n",
    "print(normal_predict)\n",
    "if normal_predict < .5: \n",
    "    print('Non-Normal')\n",
    "else: \n",
    "    print('Normal')\n",
    "\n"
   ]
  },
  {
   "cell_type": "code",
   "execution_count": null,
   "metadata": {},
   "outputs": [],
   "source": [
    "test_predict = normal_model.predict(x_test.reshape(len(x_test), 28, 28, 3))\n",
    "print(y_test, test_predict)\n",
    "print(confusion_matrix(y_test, test_predict))"
   ]
  },
  {
   "cell_type": "code",
   "execution_count": null,
   "metadata": {},
   "outputs": [],
   "source": [
    "assert False"
   ]
  },
  {
   "cell_type": "code",
   "execution_count": null,
   "metadata": {},
   "outputs": [],
   "source": []
  },
  {
   "cell_type": "markdown",
   "metadata": {},
   "source": [
    "### Test on Random Images"
   ]
  },
  {
   "cell_type": "markdown",
   "metadata": {},
   "source": [
    "['Normal', 'COVID-19', 'Bacterial', 'Fungal', 'SARS']\n",
    "['Normal', 'COVID-19', 'Bacterial']"
   ]
  },
  {
   "cell_type": "code",
   "execution_count": null,
   "metadata": {},
   "outputs": [],
   "source": []
  }
 ],
 "metadata": {
  "kernelspec": {
   "display_name": "Python 3",
   "language": "python",
   "name": "python3"
  },
  "language_info": {
   "codemirror_mode": {
    "name": "ipython",
    "version": 3
   },
   "file_extension": ".py",
   "mimetype": "text/x-python",
   "name": "python",
   "nbconvert_exporter": "python",
   "pygments_lexer": "ipython3",
   "version": "3.7.6"
  }
 },
 "nbformat": 4,
 "nbformat_minor": 4
}
